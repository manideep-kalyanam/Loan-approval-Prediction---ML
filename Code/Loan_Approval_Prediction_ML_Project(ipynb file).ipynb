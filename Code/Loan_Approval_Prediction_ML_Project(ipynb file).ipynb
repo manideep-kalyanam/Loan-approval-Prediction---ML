{
  "nbformat": 4,
  "nbformat_minor": 0,
  "metadata": {
    "colab": {
      "name": "Loan Approval Prediction - ML Project.ipynb",
      "provenance": []
    },
    "kernelspec": {
      "name": "python3",
      "display_name": "Python 3"
    }
  },
  "cells": [
    {
      "cell_type": "code",
      "metadata": {
        "id": "ILSMlhN3ovx1",
        "colab_type": "code",
        "colab": {}
      },
      "source": [
        "#import the required libraries\n",
        "import numpy as np\n",
        "import pandas as pd\n",
        "import matplotlib.pyplot as plt\n",
        "%matplotlib inline"
      ],
      "execution_count": 146,
      "outputs": []
    },
    {
      "cell_type": "code",
      "metadata": {
        "id": "jnd1QnrHpBX6",
        "colab_type": "code",
        "colab": {
          "base_uri": "https://localhost:8080/",
          "height": 195
        },
        "outputId": "4badb34b-8b10-4eb2-e794-14c44bd99d2a"
      },
      "source": [
        "#import the train.csv file \n",
        "Train_set=pd.read_csv('datasets_659811_1164650_train_ctrUa4K.csv')\n",
        "Train_set.head(5)"
      ],
      "execution_count": 232,
      "outputs": [
        {
          "output_type": "execute_result",
          "data": {
            "text/html": [
              "<div>\n",
              "<style scoped>\n",
              "    .dataframe tbody tr th:only-of-type {\n",
              "        vertical-align: middle;\n",
              "    }\n",
              "\n",
              "    .dataframe tbody tr th {\n",
              "        vertical-align: top;\n",
              "    }\n",
              "\n",
              "    .dataframe thead th {\n",
              "        text-align: right;\n",
              "    }\n",
              "</style>\n",
              "<table border=\"1\" class=\"dataframe\">\n",
              "  <thead>\n",
              "    <tr style=\"text-align: right;\">\n",
              "      <th></th>\n",
              "      <th>Loan_ID</th>\n",
              "      <th>Gender</th>\n",
              "      <th>Married</th>\n",
              "      <th>Dependents</th>\n",
              "      <th>Education</th>\n",
              "      <th>Self_Employed</th>\n",
              "      <th>ApplicantIncome</th>\n",
              "      <th>CoapplicantIncome</th>\n",
              "      <th>LoanAmount</th>\n",
              "      <th>Loan_Amount_Term</th>\n",
              "      <th>Credit_History</th>\n",
              "      <th>Property_Area</th>\n",
              "      <th>Loan_Status</th>\n",
              "    </tr>\n",
              "  </thead>\n",
              "  <tbody>\n",
              "    <tr>\n",
              "      <th>0</th>\n",
              "      <td>LP001002</td>\n",
              "      <td>Male</td>\n",
              "      <td>No</td>\n",
              "      <td>0</td>\n",
              "      <td>Graduate</td>\n",
              "      <td>No</td>\n",
              "      <td>5849</td>\n",
              "      <td>0.0</td>\n",
              "      <td>NaN</td>\n",
              "      <td>360.0</td>\n",
              "      <td>1.0</td>\n",
              "      <td>Urban</td>\n",
              "      <td>Y</td>\n",
              "    </tr>\n",
              "    <tr>\n",
              "      <th>1</th>\n",
              "      <td>LP001003</td>\n",
              "      <td>Male</td>\n",
              "      <td>Yes</td>\n",
              "      <td>1</td>\n",
              "      <td>Graduate</td>\n",
              "      <td>No</td>\n",
              "      <td>4583</td>\n",
              "      <td>1508.0</td>\n",
              "      <td>128.0</td>\n",
              "      <td>360.0</td>\n",
              "      <td>1.0</td>\n",
              "      <td>Rural</td>\n",
              "      <td>N</td>\n",
              "    </tr>\n",
              "    <tr>\n",
              "      <th>2</th>\n",
              "      <td>LP001005</td>\n",
              "      <td>Male</td>\n",
              "      <td>Yes</td>\n",
              "      <td>0</td>\n",
              "      <td>Graduate</td>\n",
              "      <td>Yes</td>\n",
              "      <td>3000</td>\n",
              "      <td>0.0</td>\n",
              "      <td>66.0</td>\n",
              "      <td>360.0</td>\n",
              "      <td>1.0</td>\n",
              "      <td>Urban</td>\n",
              "      <td>Y</td>\n",
              "    </tr>\n",
              "    <tr>\n",
              "      <th>3</th>\n",
              "      <td>LP001006</td>\n",
              "      <td>Male</td>\n",
              "      <td>Yes</td>\n",
              "      <td>0</td>\n",
              "      <td>Not Graduate</td>\n",
              "      <td>No</td>\n",
              "      <td>2583</td>\n",
              "      <td>2358.0</td>\n",
              "      <td>120.0</td>\n",
              "      <td>360.0</td>\n",
              "      <td>1.0</td>\n",
              "      <td>Urban</td>\n",
              "      <td>Y</td>\n",
              "    </tr>\n",
              "    <tr>\n",
              "      <th>4</th>\n",
              "      <td>LP001008</td>\n",
              "      <td>Male</td>\n",
              "      <td>No</td>\n",
              "      <td>0</td>\n",
              "      <td>Graduate</td>\n",
              "      <td>No</td>\n",
              "      <td>6000</td>\n",
              "      <td>0.0</td>\n",
              "      <td>141.0</td>\n",
              "      <td>360.0</td>\n",
              "      <td>1.0</td>\n",
              "      <td>Urban</td>\n",
              "      <td>Y</td>\n",
              "    </tr>\n",
              "  </tbody>\n",
              "</table>\n",
              "</div>"
            ],
            "text/plain": [
              "    Loan_ID Gender Married  ... Credit_History Property_Area Loan_Status\n",
              "0  LP001002   Male      No  ...            1.0         Urban           Y\n",
              "1  LP001003   Male     Yes  ...            1.0         Rural           N\n",
              "2  LP001005   Male     Yes  ...            1.0         Urban           Y\n",
              "3  LP001006   Male     Yes  ...            1.0         Urban           Y\n",
              "4  LP001008   Male      No  ...            1.0         Urban           Y\n",
              "\n",
              "[5 rows x 13 columns]"
            ]
          },
          "metadata": {
            "tags": []
          },
          "execution_count": 232
        }
      ]
    },
    {
      "cell_type": "code",
      "metadata": {
        "id": "lCxB1VhBAho4",
        "colab_type": "code",
        "colab": {
          "base_uri": "https://localhost:8080/",
          "height": 353
        },
        "outputId": "ca902749-779e-4b66-e2d0-eeb58866db9c"
      },
      "source": [
        "#Let's check the info of the Train_set\n",
        "Train_set.info()"
      ],
      "execution_count": 236,
      "outputs": [
        {
          "output_type": "stream",
          "text": [
            "<class 'pandas.core.frame.DataFrame'>\n",
            "RangeIndex: 614 entries, 0 to 613\n",
            "Data columns (total 13 columns):\n",
            " #   Column             Non-Null Count  Dtype  \n",
            "---  ------             --------------  -----  \n",
            " 0   Loan_ID            614 non-null    object \n",
            " 1   Gender             601 non-null    object \n",
            " 2   Married            611 non-null    object \n",
            " 3   Dependents         599 non-null    object \n",
            " 4   Education          614 non-null    object \n",
            " 5   Self_Employed      582 non-null    object \n",
            " 6   ApplicantIncome    614 non-null    int64  \n",
            " 7   CoapplicantIncome  614 non-null    float64\n",
            " 8   LoanAmount         592 non-null    float64\n",
            " 9   Loan_Amount_Term   600 non-null    float64\n",
            " 10  Credit_History     564 non-null    float64\n",
            " 11  Property_Area      614 non-null    object \n",
            " 12  Loan_Status        614 non-null    object \n",
            "dtypes: float64(4), int64(1), object(8)\n",
            "memory usage: 62.5+ KB\n"
          ],
          "name": "stdout"
        }
      ]
    },
    {
      "cell_type": "code",
      "metadata": {
        "id": "I-YiZlMTpjCb",
        "colab_type": "code",
        "colab": {
          "base_uri": "https://localhost:8080/",
          "height": 252
        },
        "outputId": "f55fa21a-b493-4086-a8b0-c8178a367e49"
      },
      "source": [
        "#Let's find out the count of null values w.r.t columns in Train_set\n",
        "Train_set.isnull().sum()"
      ],
      "execution_count": 241,
      "outputs": [
        {
          "output_type": "execute_result",
          "data": {
            "text/plain": [
              "Loan_ID               0\n",
              "Gender               13\n",
              "Married               3\n",
              "Dependents           15\n",
              "Education             0\n",
              "Self_Employed        32\n",
              "ApplicantIncome       0\n",
              "CoapplicantIncome     0\n",
              "LoanAmount           22\n",
              "Loan_Amount_Term     14\n",
              "Credit_History       50\n",
              "Property_Area         0\n",
              "Loan_Status           0\n",
              "dtype: int64"
            ]
          },
          "metadata": {
            "tags": []
          },
          "execution_count": 241
        }
      ]
    },
    {
      "cell_type": "code",
      "metadata": {
        "id": "OZRYj_4QqSby",
        "colab_type": "code",
        "colab": {
          "base_uri": "https://localhost:8080/",
          "height": 34
        },
        "outputId": "dabb8ae4-9be8-4ece-bddc-657698812051"
      },
      "source": [
        "#Shape of Train_set \n",
        "Train_set.shape"
      ],
      "execution_count": 235,
      "outputs": [
        {
          "output_type": "execute_result",
          "data": {
            "text/plain": [
              "(614, 13)"
            ]
          },
          "metadata": {
            "tags": []
          },
          "execution_count": 235
        }
      ]
    },
    {
      "cell_type": "code",
      "metadata": {
        "id": "t1XGnLLZWOR6",
        "colab_type": "code",
        "colab": {
          "base_uri": "https://localhost:8080/",
          "height": 195
        },
        "outputId": "e5f64a0d-1106-4404-e395-1b1957af666b"
      },
      "source": [
        "#import the test.csv file \n",
        "Test_set=pd.read_csv('datasets_659811_1164650_test_lAUu6dG.csv')\n",
        "Test_set.head(5)"
      ],
      "execution_count": 238,
      "outputs": [
        {
          "output_type": "execute_result",
          "data": {
            "text/html": [
              "<div>\n",
              "<style scoped>\n",
              "    .dataframe tbody tr th:only-of-type {\n",
              "        vertical-align: middle;\n",
              "    }\n",
              "\n",
              "    .dataframe tbody tr th {\n",
              "        vertical-align: top;\n",
              "    }\n",
              "\n",
              "    .dataframe thead th {\n",
              "        text-align: right;\n",
              "    }\n",
              "</style>\n",
              "<table border=\"1\" class=\"dataframe\">\n",
              "  <thead>\n",
              "    <tr style=\"text-align: right;\">\n",
              "      <th></th>\n",
              "      <th>Loan_ID</th>\n",
              "      <th>Gender</th>\n",
              "      <th>Married</th>\n",
              "      <th>Dependents</th>\n",
              "      <th>Education</th>\n",
              "      <th>Self_Employed</th>\n",
              "      <th>ApplicantIncome</th>\n",
              "      <th>CoapplicantIncome</th>\n",
              "      <th>LoanAmount</th>\n",
              "      <th>Loan_Amount_Term</th>\n",
              "      <th>Credit_History</th>\n",
              "      <th>Property_Area</th>\n",
              "    </tr>\n",
              "  </thead>\n",
              "  <tbody>\n",
              "    <tr>\n",
              "      <th>0</th>\n",
              "      <td>LP001015</td>\n",
              "      <td>Male</td>\n",
              "      <td>Yes</td>\n",
              "      <td>0</td>\n",
              "      <td>Graduate</td>\n",
              "      <td>No</td>\n",
              "      <td>5720</td>\n",
              "      <td>0</td>\n",
              "      <td>110.0</td>\n",
              "      <td>360.0</td>\n",
              "      <td>1.0</td>\n",
              "      <td>Urban</td>\n",
              "    </tr>\n",
              "    <tr>\n",
              "      <th>1</th>\n",
              "      <td>LP001022</td>\n",
              "      <td>Male</td>\n",
              "      <td>Yes</td>\n",
              "      <td>1</td>\n",
              "      <td>Graduate</td>\n",
              "      <td>No</td>\n",
              "      <td>3076</td>\n",
              "      <td>1500</td>\n",
              "      <td>126.0</td>\n",
              "      <td>360.0</td>\n",
              "      <td>1.0</td>\n",
              "      <td>Urban</td>\n",
              "    </tr>\n",
              "    <tr>\n",
              "      <th>2</th>\n",
              "      <td>LP001031</td>\n",
              "      <td>Male</td>\n",
              "      <td>Yes</td>\n",
              "      <td>2</td>\n",
              "      <td>Graduate</td>\n",
              "      <td>No</td>\n",
              "      <td>5000</td>\n",
              "      <td>1800</td>\n",
              "      <td>208.0</td>\n",
              "      <td>360.0</td>\n",
              "      <td>1.0</td>\n",
              "      <td>Urban</td>\n",
              "    </tr>\n",
              "    <tr>\n",
              "      <th>3</th>\n",
              "      <td>LP001035</td>\n",
              "      <td>Male</td>\n",
              "      <td>Yes</td>\n",
              "      <td>2</td>\n",
              "      <td>Graduate</td>\n",
              "      <td>No</td>\n",
              "      <td>2340</td>\n",
              "      <td>2546</td>\n",
              "      <td>100.0</td>\n",
              "      <td>360.0</td>\n",
              "      <td>NaN</td>\n",
              "      <td>Urban</td>\n",
              "    </tr>\n",
              "    <tr>\n",
              "      <th>4</th>\n",
              "      <td>LP001051</td>\n",
              "      <td>Male</td>\n",
              "      <td>No</td>\n",
              "      <td>0</td>\n",
              "      <td>Not Graduate</td>\n",
              "      <td>No</td>\n",
              "      <td>3276</td>\n",
              "      <td>0</td>\n",
              "      <td>78.0</td>\n",
              "      <td>360.0</td>\n",
              "      <td>1.0</td>\n",
              "      <td>Urban</td>\n",
              "    </tr>\n",
              "  </tbody>\n",
              "</table>\n",
              "</div>"
            ],
            "text/plain": [
              "    Loan_ID Gender Married  ... Loan_Amount_Term Credit_History Property_Area\n",
              "0  LP001015   Male     Yes  ...            360.0            1.0         Urban\n",
              "1  LP001022   Male     Yes  ...            360.0            1.0         Urban\n",
              "2  LP001031   Male     Yes  ...            360.0            1.0         Urban\n",
              "3  LP001035   Male     Yes  ...            360.0            NaN         Urban\n",
              "4  LP001051   Male      No  ...            360.0            1.0         Urban\n",
              "\n",
              "[5 rows x 12 columns]"
            ]
          },
          "metadata": {
            "tags": []
          },
          "execution_count": 238
        }
      ]
    },
    {
      "cell_type": "code",
      "metadata": {
        "id": "5kIO-5DEWmnr",
        "colab_type": "code",
        "colab": {
          "base_uri": "https://localhost:8080/",
          "height": 336
        },
        "outputId": "96ee7405-9eac-4eb8-e842-82222ae9bbdb"
      },
      "source": [
        "#Let's check the info of the Test_set\n",
        "Test_set.info()"
      ],
      "execution_count": 239,
      "outputs": [
        {
          "output_type": "stream",
          "text": [
            "<class 'pandas.core.frame.DataFrame'>\n",
            "RangeIndex: 367 entries, 0 to 366\n",
            "Data columns (total 12 columns):\n",
            " #   Column             Non-Null Count  Dtype  \n",
            "---  ------             --------------  -----  \n",
            " 0   Loan_ID            367 non-null    object \n",
            " 1   Gender             356 non-null    object \n",
            " 2   Married            367 non-null    object \n",
            " 3   Dependents         357 non-null    object \n",
            " 4   Education          367 non-null    object \n",
            " 5   Self_Employed      344 non-null    object \n",
            " 6   ApplicantIncome    367 non-null    int64  \n",
            " 7   CoapplicantIncome  367 non-null    int64  \n",
            " 8   LoanAmount         362 non-null    float64\n",
            " 9   Loan_Amount_Term   361 non-null    float64\n",
            " 10  Credit_History     338 non-null    float64\n",
            " 11  Property_Area      367 non-null    object \n",
            "dtypes: float64(3), int64(2), object(7)\n",
            "memory usage: 34.5+ KB\n"
          ],
          "name": "stdout"
        }
      ]
    },
    {
      "cell_type": "code",
      "metadata": {
        "id": "sZghDlt_Wutq",
        "colab_type": "code",
        "colab": {
          "base_uri": "https://localhost:8080/",
          "height": 235
        },
        "outputId": "74ecbb87-1c46-4aeb-9c34-95e10f5cb0df"
      },
      "source": [
        "#Let's find out the count of null values w.r.t columns in Test_set \n",
        "Test_set.isnull().sum()"
      ],
      "execution_count": 240,
      "outputs": [
        {
          "output_type": "execute_result",
          "data": {
            "text/plain": [
              "Loan_ID               0\n",
              "Gender               11\n",
              "Married               0\n",
              "Dependents           10\n",
              "Education             0\n",
              "Self_Employed        23\n",
              "ApplicantIncome       0\n",
              "CoapplicantIncome     0\n",
              "LoanAmount            5\n",
              "Loan_Amount_Term      6\n",
              "Credit_History       29\n",
              "Property_Area         0\n",
              "dtype: int64"
            ]
          },
          "metadata": {
            "tags": []
          },
          "execution_count": 240
        }
      ]
    },
    {
      "cell_type": "code",
      "metadata": {
        "id": "j5V0uRJJXEDg",
        "colab_type": "code",
        "colab": {
          "base_uri": "https://localhost:8080/",
          "height": 34
        },
        "outputId": "6c9b561b-6bc4-46b7-e35c-a7fcb7632927"
      },
      "source": [
        "#Shape of Test_set \n",
        "Test_set.shape"
      ],
      "execution_count": 242,
      "outputs": [
        {
          "output_type": "execute_result",
          "data": {
            "text/plain": [
              "(367, 12)"
            ]
          },
          "metadata": {
            "tags": []
          },
          "execution_count": 242
        }
      ]
    },
    {
      "cell_type": "markdown",
      "metadata": {
        "id": "r22dVRwE3eq6",
        "colab_type": "text"
      },
      "source": [
        "#filling NaN(null) values"
      ]
    },
    {
      "cell_type": "markdown",
      "metadata": {
        "id": "tw9cjg3VXOfd",
        "colab_type": "text"
      },
      "source": [
        "**Train_set**"
      ]
    },
    {
      "cell_type": "code",
      "metadata": {
        "id": "vauI6eA48k77",
        "colab_type": "code",
        "colab": {}
      },
      "source": [
        "#filling the null values \n",
        "Train_set['Gender'] = Train_set['Gender'].fillna(Train_set['Gender'].mode()[0])\n",
        "Train_set['Married'] = Train_set['Married'].fillna(Train_set['Married'].mode()[0])\n",
        "Train_set['Dependents'] = Train_set['Dependents'].fillna(Train_set['Dependents'].mode()[0])\n",
        "Train_set['Self_Employed'] = Train_set['Self_Employed'].fillna(Train_set['Self_Employed'].mode()[0])\n",
        "Train_set['Credit_History'] = Train_set['Credit_History'].fillna(Train_set['Credit_History'].mode()[0])\n"
      ],
      "execution_count": 243,
      "outputs": []
    },
    {
      "cell_type": "code",
      "metadata": {
        "id": "8yriysg2NVju",
        "colab_type": "code",
        "colab": {}
      },
      "source": [
        "Train_set['Loan_Amount_Term'] = Train_set['Loan_Amount_Term'].fillna(Train_set['Loan_Amount_Term'].mean())\n",
        "Train_set['LoanAmount'] = Train_set['LoanAmount'].fillna(Train_set['LoanAmount'].mean())"
      ],
      "execution_count": 244,
      "outputs": []
    },
    {
      "cell_type": "code",
      "metadata": {
        "id": "WRI6OFFI9MiX",
        "colab_type": "code",
        "colab": {
          "base_uri": "https://localhost:8080/",
          "height": 252
        },
        "outputId": "bf96e5f5-c72b-4473-b16e-a05b32b4991f"
      },
      "source": [
        "Train_set.isnull().sum()"
      ],
      "execution_count": 245,
      "outputs": [
        {
          "output_type": "execute_result",
          "data": {
            "text/plain": [
              "Loan_ID              0\n",
              "Gender               0\n",
              "Married              0\n",
              "Dependents           0\n",
              "Education            0\n",
              "Self_Employed        0\n",
              "ApplicantIncome      0\n",
              "CoapplicantIncome    0\n",
              "LoanAmount           0\n",
              "Loan_Amount_Term     0\n",
              "Credit_History       0\n",
              "Property_Area        0\n",
              "Loan_Status          0\n",
              "dtype: int64"
            ]
          },
          "metadata": {
            "tags": []
          },
          "execution_count": 245
        }
      ]
    },
    {
      "cell_type": "markdown",
      "metadata": {
        "id": "vQSrwENJYUxP",
        "colab_type": "text"
      },
      "source": [
        "Now, there are no null values in Train_set"
      ]
    },
    {
      "cell_type": "code",
      "metadata": {
        "id": "gBNkw7hEWb03",
        "colab_type": "code",
        "colab": {
          "base_uri": "https://localhost:8080/",
          "height": 195
        },
        "outputId": "a7048caf-3921-4041-9834-7953d6eff98b"
      },
      "source": [
        "Train_set.head(5)"
      ],
      "execution_count": 246,
      "outputs": [
        {
          "output_type": "execute_result",
          "data": {
            "text/html": [
              "<div>\n",
              "<style scoped>\n",
              "    .dataframe tbody tr th:only-of-type {\n",
              "        vertical-align: middle;\n",
              "    }\n",
              "\n",
              "    .dataframe tbody tr th {\n",
              "        vertical-align: top;\n",
              "    }\n",
              "\n",
              "    .dataframe thead th {\n",
              "        text-align: right;\n",
              "    }\n",
              "</style>\n",
              "<table border=\"1\" class=\"dataframe\">\n",
              "  <thead>\n",
              "    <tr style=\"text-align: right;\">\n",
              "      <th></th>\n",
              "      <th>Loan_ID</th>\n",
              "      <th>Gender</th>\n",
              "      <th>Married</th>\n",
              "      <th>Dependents</th>\n",
              "      <th>Education</th>\n",
              "      <th>Self_Employed</th>\n",
              "      <th>ApplicantIncome</th>\n",
              "      <th>CoapplicantIncome</th>\n",
              "      <th>LoanAmount</th>\n",
              "      <th>Loan_Amount_Term</th>\n",
              "      <th>Credit_History</th>\n",
              "      <th>Property_Area</th>\n",
              "      <th>Loan_Status</th>\n",
              "    </tr>\n",
              "  </thead>\n",
              "  <tbody>\n",
              "    <tr>\n",
              "      <th>0</th>\n",
              "      <td>LP001002</td>\n",
              "      <td>Male</td>\n",
              "      <td>No</td>\n",
              "      <td>0</td>\n",
              "      <td>Graduate</td>\n",
              "      <td>No</td>\n",
              "      <td>5849</td>\n",
              "      <td>0.0</td>\n",
              "      <td>146.412162</td>\n",
              "      <td>360.0</td>\n",
              "      <td>1.0</td>\n",
              "      <td>Urban</td>\n",
              "      <td>Y</td>\n",
              "    </tr>\n",
              "    <tr>\n",
              "      <th>1</th>\n",
              "      <td>LP001003</td>\n",
              "      <td>Male</td>\n",
              "      <td>Yes</td>\n",
              "      <td>1</td>\n",
              "      <td>Graduate</td>\n",
              "      <td>No</td>\n",
              "      <td>4583</td>\n",
              "      <td>1508.0</td>\n",
              "      <td>128.000000</td>\n",
              "      <td>360.0</td>\n",
              "      <td>1.0</td>\n",
              "      <td>Rural</td>\n",
              "      <td>N</td>\n",
              "    </tr>\n",
              "    <tr>\n",
              "      <th>2</th>\n",
              "      <td>LP001005</td>\n",
              "      <td>Male</td>\n",
              "      <td>Yes</td>\n",
              "      <td>0</td>\n",
              "      <td>Graduate</td>\n",
              "      <td>Yes</td>\n",
              "      <td>3000</td>\n",
              "      <td>0.0</td>\n",
              "      <td>66.000000</td>\n",
              "      <td>360.0</td>\n",
              "      <td>1.0</td>\n",
              "      <td>Urban</td>\n",
              "      <td>Y</td>\n",
              "    </tr>\n",
              "    <tr>\n",
              "      <th>3</th>\n",
              "      <td>LP001006</td>\n",
              "      <td>Male</td>\n",
              "      <td>Yes</td>\n",
              "      <td>0</td>\n",
              "      <td>Not Graduate</td>\n",
              "      <td>No</td>\n",
              "      <td>2583</td>\n",
              "      <td>2358.0</td>\n",
              "      <td>120.000000</td>\n",
              "      <td>360.0</td>\n",
              "      <td>1.0</td>\n",
              "      <td>Urban</td>\n",
              "      <td>Y</td>\n",
              "    </tr>\n",
              "    <tr>\n",
              "      <th>4</th>\n",
              "      <td>LP001008</td>\n",
              "      <td>Male</td>\n",
              "      <td>No</td>\n",
              "      <td>0</td>\n",
              "      <td>Graduate</td>\n",
              "      <td>No</td>\n",
              "      <td>6000</td>\n",
              "      <td>0.0</td>\n",
              "      <td>141.000000</td>\n",
              "      <td>360.0</td>\n",
              "      <td>1.0</td>\n",
              "      <td>Urban</td>\n",
              "      <td>Y</td>\n",
              "    </tr>\n",
              "  </tbody>\n",
              "</table>\n",
              "</div>"
            ],
            "text/plain": [
              "    Loan_ID Gender Married  ... Credit_History Property_Area Loan_Status\n",
              "0  LP001002   Male      No  ...            1.0         Urban           Y\n",
              "1  LP001003   Male     Yes  ...            1.0         Rural           N\n",
              "2  LP001005   Male     Yes  ...            1.0         Urban           Y\n",
              "3  LP001006   Male     Yes  ...            1.0         Urban           Y\n",
              "4  LP001008   Male      No  ...            1.0         Urban           Y\n",
              "\n",
              "[5 rows x 13 columns]"
            ]
          },
          "metadata": {
            "tags": []
          },
          "execution_count": 246
        }
      ]
    },
    {
      "cell_type": "markdown",
      "metadata": {
        "id": "9ZQS9WBXX4Kl",
        "colab_type": "text"
      },
      "source": [
        "**Test_set**"
      ]
    },
    {
      "cell_type": "code",
      "metadata": {
        "id": "K4jOyKd8X6rR",
        "colab_type": "code",
        "colab": {}
      },
      "source": [
        "#filling the null values \n",
        "Test_set['Gender'] = Test_set['Gender'].fillna(Test_set['Gender'].mode()[0])\n",
        "Test_set['Dependents'] = Test_set['Dependents'].fillna(Test_set['Dependents'].mode()[0])\n",
        "Test_set['Self_Employed'] = Test_set['Self_Employed'].fillna(Test_set['Self_Employed'].mode()[0])\n",
        "Test_set['Credit_History'] = Test_set['Credit_History'].fillna(Test_set['Credit_History'].mode()[0])\n"
      ],
      "execution_count": 247,
      "outputs": []
    },
    {
      "cell_type": "code",
      "metadata": {
        "id": "yQvoEjgWYC_c",
        "colab_type": "code",
        "colab": {}
      },
      "source": [
        "Test_set['Loan_Amount_Term'] = Test_set['Loan_Amount_Term'].fillna(Test_set['Loan_Amount_Term'].mean())\n",
        "Test_set['LoanAmount'] = Test_set['LoanAmount'].fillna(Test_set['LoanAmount'].mean())"
      ],
      "execution_count": 248,
      "outputs": []
    },
    {
      "cell_type": "code",
      "metadata": {
        "id": "8BWjsq1jYFbL",
        "colab_type": "code",
        "colab": {
          "base_uri": "https://localhost:8080/",
          "height": 235
        },
        "outputId": "33c97771-658d-4877-884d-384433f5c15f"
      },
      "source": [
        "Test_set.isnull().sum()"
      ],
      "execution_count": 249,
      "outputs": [
        {
          "output_type": "execute_result",
          "data": {
            "text/plain": [
              "Loan_ID              0\n",
              "Gender               0\n",
              "Married              0\n",
              "Dependents           0\n",
              "Education            0\n",
              "Self_Employed        0\n",
              "ApplicantIncome      0\n",
              "CoapplicantIncome    0\n",
              "LoanAmount           0\n",
              "Loan_Amount_Term     0\n",
              "Credit_History       0\n",
              "Property_Area        0\n",
              "dtype: int64"
            ]
          },
          "metadata": {
            "tags": []
          },
          "execution_count": 249
        }
      ]
    },
    {
      "cell_type": "markdown",
      "metadata": {
        "id": "zln9bJ06Y5-F",
        "colab_type": "text"
      },
      "source": [
        "Now, there are no null values in Train_set"
      ]
    },
    {
      "cell_type": "code",
      "metadata": {
        "id": "H8_LDTT2YIDg",
        "colab_type": "code",
        "colab": {
          "base_uri": "https://localhost:8080/",
          "height": 195
        },
        "outputId": "9793d4e8-acae-45e8-bc8e-c958b1a3272d"
      },
      "source": [
        "Test_set.head(5)"
      ],
      "execution_count": 250,
      "outputs": [
        {
          "output_type": "execute_result",
          "data": {
            "text/html": [
              "<div>\n",
              "<style scoped>\n",
              "    .dataframe tbody tr th:only-of-type {\n",
              "        vertical-align: middle;\n",
              "    }\n",
              "\n",
              "    .dataframe tbody tr th {\n",
              "        vertical-align: top;\n",
              "    }\n",
              "\n",
              "    .dataframe thead th {\n",
              "        text-align: right;\n",
              "    }\n",
              "</style>\n",
              "<table border=\"1\" class=\"dataframe\">\n",
              "  <thead>\n",
              "    <tr style=\"text-align: right;\">\n",
              "      <th></th>\n",
              "      <th>Loan_ID</th>\n",
              "      <th>Gender</th>\n",
              "      <th>Married</th>\n",
              "      <th>Dependents</th>\n",
              "      <th>Education</th>\n",
              "      <th>Self_Employed</th>\n",
              "      <th>ApplicantIncome</th>\n",
              "      <th>CoapplicantIncome</th>\n",
              "      <th>LoanAmount</th>\n",
              "      <th>Loan_Amount_Term</th>\n",
              "      <th>Credit_History</th>\n",
              "      <th>Property_Area</th>\n",
              "    </tr>\n",
              "  </thead>\n",
              "  <tbody>\n",
              "    <tr>\n",
              "      <th>0</th>\n",
              "      <td>LP001015</td>\n",
              "      <td>Male</td>\n",
              "      <td>Yes</td>\n",
              "      <td>0</td>\n",
              "      <td>Graduate</td>\n",
              "      <td>No</td>\n",
              "      <td>5720</td>\n",
              "      <td>0</td>\n",
              "      <td>110.0</td>\n",
              "      <td>360.0</td>\n",
              "      <td>1.0</td>\n",
              "      <td>Urban</td>\n",
              "    </tr>\n",
              "    <tr>\n",
              "      <th>1</th>\n",
              "      <td>LP001022</td>\n",
              "      <td>Male</td>\n",
              "      <td>Yes</td>\n",
              "      <td>1</td>\n",
              "      <td>Graduate</td>\n",
              "      <td>No</td>\n",
              "      <td>3076</td>\n",
              "      <td>1500</td>\n",
              "      <td>126.0</td>\n",
              "      <td>360.0</td>\n",
              "      <td>1.0</td>\n",
              "      <td>Urban</td>\n",
              "    </tr>\n",
              "    <tr>\n",
              "      <th>2</th>\n",
              "      <td>LP001031</td>\n",
              "      <td>Male</td>\n",
              "      <td>Yes</td>\n",
              "      <td>2</td>\n",
              "      <td>Graduate</td>\n",
              "      <td>No</td>\n",
              "      <td>5000</td>\n",
              "      <td>1800</td>\n",
              "      <td>208.0</td>\n",
              "      <td>360.0</td>\n",
              "      <td>1.0</td>\n",
              "      <td>Urban</td>\n",
              "    </tr>\n",
              "    <tr>\n",
              "      <th>3</th>\n",
              "      <td>LP001035</td>\n",
              "      <td>Male</td>\n",
              "      <td>Yes</td>\n",
              "      <td>2</td>\n",
              "      <td>Graduate</td>\n",
              "      <td>No</td>\n",
              "      <td>2340</td>\n",
              "      <td>2546</td>\n",
              "      <td>100.0</td>\n",
              "      <td>360.0</td>\n",
              "      <td>1.0</td>\n",
              "      <td>Urban</td>\n",
              "    </tr>\n",
              "    <tr>\n",
              "      <th>4</th>\n",
              "      <td>LP001051</td>\n",
              "      <td>Male</td>\n",
              "      <td>No</td>\n",
              "      <td>0</td>\n",
              "      <td>Not Graduate</td>\n",
              "      <td>No</td>\n",
              "      <td>3276</td>\n",
              "      <td>0</td>\n",
              "      <td>78.0</td>\n",
              "      <td>360.0</td>\n",
              "      <td>1.0</td>\n",
              "      <td>Urban</td>\n",
              "    </tr>\n",
              "  </tbody>\n",
              "</table>\n",
              "</div>"
            ],
            "text/plain": [
              "    Loan_ID Gender Married  ... Loan_Amount_Term Credit_History Property_Area\n",
              "0  LP001015   Male     Yes  ...            360.0            1.0         Urban\n",
              "1  LP001022   Male     Yes  ...            360.0            1.0         Urban\n",
              "2  LP001031   Male     Yes  ...            360.0            1.0         Urban\n",
              "3  LP001035   Male     Yes  ...            360.0            1.0         Urban\n",
              "4  LP001051   Male      No  ...            360.0            1.0         Urban\n",
              "\n",
              "[5 rows x 12 columns]"
            ]
          },
          "metadata": {
            "tags": []
          },
          "execution_count": 250
        }
      ]
    },
    {
      "cell_type": "markdown",
      "metadata": {
        "id": "RIjY3SyK3jLy",
        "colab_type": "text"
      },
      "source": [
        "#Converting Dependents(changing '3+' to '3', then) to integer type "
      ]
    },
    {
      "cell_type": "code",
      "metadata": {
        "id": "7AL89xgj9jCu",
        "colab_type": "code",
        "colab": {
          "base_uri": "https://localhost:8080/",
          "height": 218
        },
        "outputId": "c3eafb1b-631d-4967-aafd-d73a6efe4f78"
      },
      "source": [
        "print('Train_set')\n",
        "print(Train_set['Dependents'].value_counts())\n",
        "print('Test_set')\n",
        "print(Test_set['Dependents'].value_counts())"
      ],
      "execution_count": 254,
      "outputs": [
        {
          "output_type": "stream",
          "text": [
            "Train_set\n",
            "0     360\n",
            "1     102\n",
            "2     101\n",
            "3+     51\n",
            "Name: Dependents, dtype: int64\n",
            "Test_set\n",
            "0     210\n",
            "2      59\n",
            "1      58\n",
            "3+     40\n",
            "Name: Dependents, dtype: int64\n"
          ],
          "name": "stdout"
        }
      ]
    },
    {
      "cell_type": "markdown",
      "metadata": {
        "id": "Cz_lXdI7Zlxd",
        "colab_type": "text"
      },
      "source": [
        "Let's just replace '3+' to '3' and change the data type of Dependents to integer."
      ]
    },
    {
      "cell_type": "code",
      "metadata": {
        "id": "XaFdWOlz9pwn",
        "colab_type": "code",
        "colab": {}
      },
      "source": [
        "#Let's just replace 3+  to 3\n",
        "Train_set['Dependents']=Train_set['Dependents'].replace('3+','3')\n",
        "Test_set['Dependents']=Test_set['Dependents'].replace('3+','3')\n"
      ],
      "execution_count": 255,
      "outputs": []
    },
    {
      "cell_type": "code",
      "metadata": {
        "id": "OxMxhdlp-djX",
        "colab_type": "code",
        "colab": {}
      },
      "source": [
        "#dtype of 'Dependents' is object let's change it to int type\n",
        "Train_set['Dependents']=Train_set['Dependents'].astype(int)\n",
        "Test_set['Dependents']=Test_set['Dependents'].astype(int)"
      ],
      "execution_count": 256,
      "outputs": []
    },
    {
      "cell_type": "code",
      "metadata": {
        "id": "AeLBQ266_FrX",
        "colab_type": "code",
        "colab": {
          "base_uri": "https://localhost:8080/",
          "height": 50
        },
        "outputId": "99c7ee03-4d7d-48fc-c4ed-fa5e888483fe"
      },
      "source": [
        "print('Train_set',Train_set['Dependents'].unique())\n",
        "print('Test_set',Test_set['Dependents'].unique())"
      ],
      "execution_count": 257,
      "outputs": [
        {
          "output_type": "stream",
          "text": [
            "Train_set [0 1 2 3]\n",
            "Test_set [0 1 2 3]\n"
          ],
          "name": "stdout"
        }
      ]
    },
    {
      "cell_type": "code",
      "metadata": {
        "id": "5HPRUEAAb41t",
        "colab_type": "code",
        "colab": {
          "base_uri": "https://localhost:8080/",
          "height": 353
        },
        "outputId": "45c17d30-6e4f-4dac-a856-80ef2a69809c"
      },
      "source": [
        "Train_set.info()"
      ],
      "execution_count": 258,
      "outputs": [
        {
          "output_type": "stream",
          "text": [
            "<class 'pandas.core.frame.DataFrame'>\n",
            "RangeIndex: 614 entries, 0 to 613\n",
            "Data columns (total 13 columns):\n",
            " #   Column             Non-Null Count  Dtype  \n",
            "---  ------             --------------  -----  \n",
            " 0   Loan_ID            614 non-null    object \n",
            " 1   Gender             614 non-null    object \n",
            " 2   Married            614 non-null    object \n",
            " 3   Dependents         614 non-null    int64  \n",
            " 4   Education          614 non-null    object \n",
            " 5   Self_Employed      614 non-null    object \n",
            " 6   ApplicantIncome    614 non-null    int64  \n",
            " 7   CoapplicantIncome  614 non-null    float64\n",
            " 8   LoanAmount         614 non-null    float64\n",
            " 9   Loan_Amount_Term   614 non-null    float64\n",
            " 10  Credit_History     614 non-null    float64\n",
            " 11  Property_Area      614 non-null    object \n",
            " 12  Loan_Status        614 non-null    object \n",
            "dtypes: float64(4), int64(2), object(7)\n",
            "memory usage: 62.5+ KB\n"
          ],
          "name": "stdout"
        }
      ]
    },
    {
      "cell_type": "markdown",
      "metadata": {
        "id": "7bXBznq7a07m",
        "colab_type": "text"
      },
      "source": [
        "We can observe that the datatype of dependents is changed from object to integer."
      ]
    },
    {
      "cell_type": "markdown",
      "metadata": {
        "id": "kick2q5Z4LQV",
        "colab_type": "text"
      },
      "source": [
        "**Now let's check dependancy of Loan_Status on different Categorical columns in Train_set**"
      ]
    },
    {
      "cell_type": "markdown",
      "metadata": {
        "id": "wW5NZwrQUvi9",
        "colab_type": "text"
      },
      "source": [
        "#Gender vs Loan_Status"
      ]
    },
    {
      "cell_type": "code",
      "metadata": {
        "id": "DVv8pTArbtbl",
        "colab_type": "code",
        "colab": {
          "base_uri": "https://localhost:8080/",
          "height": 136
        },
        "outputId": "ef8f244a-8766-499a-c8ce-792bbf6ebebb"
      },
      "source": [
        "#Let's find the count of Loan_Status categories based on Gender\n",
        "\n",
        "pd.crosstab(index=Train_set['Loan_Status'],columns=data['Gender'])"
      ],
      "execution_count": 259,
      "outputs": [
        {
          "output_type": "execute_result",
          "data": {
            "text/html": [
              "<div>\n",
              "<style scoped>\n",
              "    .dataframe tbody tr th:only-of-type {\n",
              "        vertical-align: middle;\n",
              "    }\n",
              "\n",
              "    .dataframe tbody tr th {\n",
              "        vertical-align: top;\n",
              "    }\n",
              "\n",
              "    .dataframe thead th {\n",
              "        text-align: right;\n",
              "    }\n",
              "</style>\n",
              "<table border=\"1\" class=\"dataframe\">\n",
              "  <thead>\n",
              "    <tr style=\"text-align: right;\">\n",
              "      <th>Gender</th>\n",
              "      <th>0</th>\n",
              "      <th>1</th>\n",
              "    </tr>\n",
              "    <tr>\n",
              "      <th>Loan_Status</th>\n",
              "      <th></th>\n",
              "      <th></th>\n",
              "    </tr>\n",
              "  </thead>\n",
              "  <tbody>\n",
              "    <tr>\n",
              "      <th>N</th>\n",
              "      <td>37</td>\n",
              "      <td>155</td>\n",
              "    </tr>\n",
              "    <tr>\n",
              "      <th>Y</th>\n",
              "      <td>75</td>\n",
              "      <td>347</td>\n",
              "    </tr>\n",
              "  </tbody>\n",
              "</table>\n",
              "</div>"
            ],
            "text/plain": [
              "Gender        0    1\n",
              "Loan_Status         \n",
              "N            37  155\n",
              "Y            75  347"
            ]
          },
          "metadata": {
            "tags": []
          },
          "execution_count": 259
        }
      ]
    },
    {
      "cell_type": "code",
      "metadata": {
        "id": "q48D0vU0x3Th",
        "colab_type": "code",
        "colab": {
          "base_uri": "https://localhost:8080/",
          "height": 295
        },
        "outputId": "61d329e8-ec88-43e2-efb0-116102c8ab27"
      },
      "source": [
        "pd.crosstab(index=Train_set['Loan_Status'],columns=Train_set['Gender']).plot(kind='bar')\n",
        "plt.ylabel('Count')"
      ],
      "execution_count": 262,
      "outputs": [
        {
          "output_type": "execute_result",
          "data": {
            "text/plain": [
              "Text(0, 0.5, 'Count')"
            ]
          },
          "metadata": {
            "tags": []
          },
          "execution_count": 262
        },
        {
          "output_type": "display_data",
          "data": {
            "image/png": "[encoded data removed]",
            "text/plain": [
              "<Figure size 432x288 with 1 Axes>"
            ]
          },
          "metadata": {
            "tags": [],
            "needs_background": "light"
          }
        }
      ]
    },
    {
      "cell_type": "markdown",
      "metadata": {
        "id": "yMkBPMvflRD9",
        "colab_type": "text"
      },
      "source": [
        "Among the loan approved people (i.e., Loan_Status=Y), **most of them are Male**. "
      ]
    },
    {
      "cell_type": "code",
      "metadata": {
        "id": "9oiP1OEMiVgW",
        "colab_type": "code",
        "colab": {
          "base_uri": "https://localhost:8080/",
          "height": 136
        },
        "outputId": "a2f06f46-18de-4c08-c71b-84b81ad49bcf"
      },
      "source": [
        "pd.crosstab(index=Train_set['Loan_Status'],columns=Train_set['Gender'],normalize='columns')"
      ],
      "execution_count": 263,
      "outputs": [
        {
          "output_type": "execute_result",
          "data": {
            "text/html": [
              "<div>\n",
              "<style scoped>\n",
              "    .dataframe tbody tr th:only-of-type {\n",
              "        vertical-align: middle;\n",
              "    }\n",
              "\n",
              "    .dataframe tbody tr th {\n",
              "        vertical-align: top;\n",
              "    }\n",
              "\n",
              "    .dataframe thead th {\n",
              "        text-align: right;\n",
              "    }\n",
              "</style>\n",
              "<table border=\"1\" class=\"dataframe\">\n",
              "  <thead>\n",
              "    <tr style=\"text-align: right;\">\n",
              "      <th>Gender</th>\n",
              "      <th>Female</th>\n",
              "      <th>Male</th>\n",
              "    </tr>\n",
              "    <tr>\n",
              "      <th>Loan_Status</th>\n",
              "      <th></th>\n",
              "      <th></th>\n",
              "    </tr>\n",
              "  </thead>\n",
              "  <tbody>\n",
              "    <tr>\n",
              "      <th>N</th>\n",
              "      <td>0.330357</td>\n",
              "      <td>0.308765</td>\n",
              "    </tr>\n",
              "    <tr>\n",
              "      <th>Y</th>\n",
              "      <td>0.669643</td>\n",
              "      <td>0.691235</td>\n",
              "    </tr>\n",
              "  </tbody>\n",
              "</table>\n",
              "</div>"
            ],
            "text/plain": [
              "Gender         Female      Male\n",
              "Loan_Status                    \n",
              "N            0.330357  0.308765\n",
              "Y            0.669643  0.691235"
            ]
          },
          "metadata": {
            "tags": []
          },
          "execution_count": 263
        }
      ]
    },
    {
      "cell_type": "markdown",
      "metadata": {
        "id": "WohdcaytSal7",
        "colab_type": "text"
      },
      "source": [
        "From the above crosstab, we will conclude that \n",
        "**70% of Males and 67% of Females are approved to loan** (loan is not approved to 30% of Males and 33% of Females)"
      ]
    },
    {
      "cell_type": "markdown",
      "metadata": {
        "id": "VdensWOUbxnA",
        "colab_type": "text"
      },
      "source": [
        "#Marital Status vs Loan_Status"
      ]
    },
    {
      "cell_type": "code",
      "metadata": {
        "id": "jcreAAWHcNAF",
        "colab_type": "code",
        "colab": {
          "base_uri": "https://localhost:8080/",
          "height": 136
        },
        "outputId": "7a72f71f-778c-4b2f-f7f9-ba13dd129ded"
      },
      "source": [
        "#Let's find the count of Loan_Status categories based on Marital Status\n",
        "\n",
        "pd.crosstab(index=Train_set['Loan_Status'],columns=Train_set['Married'])"
      ],
      "execution_count": 264,
      "outputs": [
        {
          "output_type": "execute_result",
          "data": {
            "text/html": [
              "<div>\n",
              "<style scoped>\n",
              "    .dataframe tbody tr th:only-of-type {\n",
              "        vertical-align: middle;\n",
              "    }\n",
              "\n",
              "    .dataframe tbody tr th {\n",
              "        vertical-align: top;\n",
              "    }\n",
              "\n",
              "    .dataframe thead th {\n",
              "        text-align: right;\n",
              "    }\n",
              "</style>\n",
              "<table border=\"1\" class=\"dataframe\">\n",
              "  <thead>\n",
              "    <tr style=\"text-align: right;\">\n",
              "      <th>Married</th>\n",
              "      <th>No</th>\n",
              "      <th>Yes</th>\n",
              "    </tr>\n",
              "    <tr>\n",
              "      <th>Loan_Status</th>\n",
              "      <th></th>\n",
              "      <th></th>\n",
              "    </tr>\n",
              "  </thead>\n",
              "  <tbody>\n",
              "    <tr>\n",
              "      <th>N</th>\n",
              "      <td>79</td>\n",
              "      <td>113</td>\n",
              "    </tr>\n",
              "    <tr>\n",
              "      <th>Y</th>\n",
              "      <td>134</td>\n",
              "      <td>288</td>\n",
              "    </tr>\n",
              "  </tbody>\n",
              "</table>\n",
              "</div>"
            ],
            "text/plain": [
              "Married       No  Yes\n",
              "Loan_Status          \n",
              "N             79  113\n",
              "Y            134  288"
            ]
          },
          "metadata": {
            "tags": []
          },
          "execution_count": 264
        }
      ]
    },
    {
      "cell_type": "code",
      "metadata": {
        "id": "Er1jw6N-UDh9",
        "colab_type": "code",
        "colab": {
          "base_uri": "https://localhost:8080/",
          "height": 297
        },
        "outputId": "7cb0c516-e5f4-4b99-8e2d-4e2be1efd1fa"
      },
      "source": [
        "pd.crosstab(index=Train_set['Loan_Status'],columns=Train_set['Married']).plot(kind='bar')\n",
        "plt.ylabel('Count')"
      ],
      "execution_count": 265,
      "outputs": [
        {
          "output_type": "execute_result",
          "data": {
            "text/plain": [
              "Text(0, 0.5, 'Count')"
            ]
          },
          "metadata": {
            "tags": []
          },
          "execution_count": 265
        },
        {
          "output_type": "display_data",
          "data": {
            "image/png": "[encoded data removed]",
            "text/plain": [
              "<Figure size 432x288 with 1 Axes>"
            ]
          },
          "metadata": {
            "tags": [],
            "needs_background": "light"
          }
        }
      ]
    },
    {
      "cell_type": "markdown",
      "metadata": {
        "id": "O55C3hW-m_hC",
        "colab_type": "text"
      },
      "source": [
        "Among the loan approved people (i.e., Loan_Status=Y), **most of them are Married.**"
      ]
    },
    {
      "cell_type": "code",
      "metadata": {
        "id": "yS-I9atNj4Sv",
        "colab_type": "code",
        "colab": {
          "base_uri": "https://localhost:8080/",
          "height": 136
        },
        "outputId": "e02c79bd-de30-43ee-87ce-b5ffb95d410b"
      },
      "source": [
        "pd.crosstab(index=Train_set['Loan_Status'],columns=Train_set['Married'],normalize='columns')"
      ],
      "execution_count": 266,
      "outputs": [
        {
          "output_type": "execute_result",
          "data": {
            "text/html": [
              "<div>\n",
              "<style scoped>\n",
              "    .dataframe tbody tr th:only-of-type {\n",
              "        vertical-align: middle;\n",
              "    }\n",
              "\n",
              "    .dataframe tbody tr th {\n",
              "        vertical-align: top;\n",
              "    }\n",
              "\n",
              "    .dataframe thead th {\n",
              "        text-align: right;\n",
              "    }\n",
              "</style>\n",
              "<table border=\"1\" class=\"dataframe\">\n",
              "  <thead>\n",
              "    <tr style=\"text-align: right;\">\n",
              "      <th>Married</th>\n",
              "      <th>No</th>\n",
              "      <th>Yes</th>\n",
              "    </tr>\n",
              "    <tr>\n",
              "      <th>Loan_Status</th>\n",
              "      <th></th>\n",
              "      <th></th>\n",
              "    </tr>\n",
              "  </thead>\n",
              "  <tbody>\n",
              "    <tr>\n",
              "      <th>N</th>\n",
              "      <td>0.370892</td>\n",
              "      <td>0.281796</td>\n",
              "    </tr>\n",
              "    <tr>\n",
              "      <th>Y</th>\n",
              "      <td>0.629108</td>\n",
              "      <td>0.718204</td>\n",
              "    </tr>\n",
              "  </tbody>\n",
              "</table>\n",
              "</div>"
            ],
            "text/plain": [
              "Married            No       Yes\n",
              "Loan_Status                    \n",
              "N            0.370892  0.281796\n",
              "Y            0.629108  0.718204"
            ]
          },
          "metadata": {
            "tags": []
          },
          "execution_count": 266
        }
      ]
    },
    {
      "cell_type": "markdown",
      "metadata": {
        "id": "lqy-Y6P6gId5",
        "colab_type": "text"
      },
      "source": [
        "From the above crosstab, we will conclude that\n",
        " **70% of Married and 63% of Not-Married people are approved to loan** (loan is not approved to 30% of Married and 37% of Not-Married)"
      ]
    },
    {
      "cell_type": "markdown",
      "metadata": {
        "id": "_L7MJB8AhcDK",
        "colab_type": "text"
      },
      "source": [
        "#Dependents vs Loan_Status"
      ]
    },
    {
      "cell_type": "code",
      "metadata": {
        "id": "CsT69mkihZI8",
        "colab_type": "code",
        "colab": {
          "base_uri": "https://localhost:8080/",
          "height": 136
        },
        "outputId": "961979fb-306c-4bb6-89d6-b3f5ed5b331a"
      },
      "source": [
        "#Let's find the count of Loan_Status categories based on Dependents\n",
        "\n",
        "pd.crosstab(index=Train_set['Loan_Status'],columns=Train_set['Dependents'])"
      ],
      "execution_count": 267,
      "outputs": [
        {
          "output_type": "execute_result",
          "data": {
            "text/html": [
              "<div>\n",
              "<style scoped>\n",
              "    .dataframe tbody tr th:only-of-type {\n",
              "        vertical-align: middle;\n",
              "    }\n",
              "\n",
              "    .dataframe tbody tr th {\n",
              "        vertical-align: top;\n",
              "    }\n",
              "\n",
              "    .dataframe thead th {\n",
              "        text-align: right;\n",
              "    }\n",
              "</style>\n",
              "<table border=\"1\" class=\"dataframe\">\n",
              "  <thead>\n",
              "    <tr style=\"text-align: right;\">\n",
              "      <th>Dependents</th>\n",
              "      <th>0</th>\n",
              "      <th>1</th>\n",
              "      <th>2</th>\n",
              "      <th>3</th>\n",
              "    </tr>\n",
              "    <tr>\n",
              "      <th>Loan_Status</th>\n",
              "      <th></th>\n",
              "      <th></th>\n",
              "      <th></th>\n",
              "      <th></th>\n",
              "    </tr>\n",
              "  </thead>\n",
              "  <tbody>\n",
              "    <tr>\n",
              "      <th>N</th>\n",
              "      <td>113</td>\n",
              "      <td>36</td>\n",
              "      <td>25</td>\n",
              "      <td>18</td>\n",
              "    </tr>\n",
              "    <tr>\n",
              "      <th>Y</th>\n",
              "      <td>247</td>\n",
              "      <td>66</td>\n",
              "      <td>76</td>\n",
              "      <td>33</td>\n",
              "    </tr>\n",
              "  </tbody>\n",
              "</table>\n",
              "</div>"
            ],
            "text/plain": [
              "Dependents     0   1   2   3\n",
              "Loan_Status                 \n",
              "N            113  36  25  18\n",
              "Y            247  66  76  33"
            ]
          },
          "metadata": {
            "tags": []
          },
          "execution_count": 267
        }
      ]
    },
    {
      "cell_type": "code",
      "metadata": {
        "id": "ZILUrwA8hZFQ",
        "colab_type": "code",
        "colab": {
          "base_uri": "https://localhost:8080/",
          "height": 295
        },
        "outputId": "ca819486-4c8f-422a-aba2-add0e77fb042"
      },
      "source": [
        "pd.crosstab(index=Train_set['Loan_Status'],columns=Train_set['Dependents']).plot(kind='bar')\n",
        "plt.ylabel('Count')"
      ],
      "execution_count": 268,
      "outputs": [
        {
          "output_type": "execute_result",
          "data": {
            "text/plain": [
              "Text(0, 0.5, 'Count')"
            ]
          },
          "metadata": {
            "tags": []
          },
          "execution_count": 268
        },
        {
          "output_type": "display_data",
          "data": {
            "image/png": "[encoded data removed]",
            "text/plain": [
              "<Figure size 432x288 with 1 Axes>"
            ]
          },
          "metadata": {
            "tags": [],
            "needs_background": "light"
          }
        }
      ]
    },
    {
      "cell_type": "markdown",
      "metadata": {
        "id": "7uYWFAAem6Po",
        "colab_type": "text"
      },
      "source": [
        "Among the loan approved people (i.e., Loan_Status=Y), **most of them are with 0 Dependents**."
      ]
    },
    {
      "cell_type": "code",
      "metadata": {
        "id": "vnJ5iou5kidV",
        "colab_type": "code",
        "colab": {
          "base_uri": "https://localhost:8080/",
          "height": 136
        },
        "outputId": "5abc3248-0038-4389-cca6-166ccf9027c9"
      },
      "source": [
        "pd.crosstab(index=Train_set['Loan_Status'],columns=Train_set['Dependents'],normalize='columns')"
      ],
      "execution_count": 269,
      "outputs": [
        {
          "output_type": "execute_result",
          "data": {
            "text/html": [
              "<div>\n",
              "<style scoped>\n",
              "    .dataframe tbody tr th:only-of-type {\n",
              "        vertical-align: middle;\n",
              "    }\n",
              "\n",
              "    .dataframe tbody tr th {\n",
              "        vertical-align: top;\n",
              "    }\n",
              "\n",
              "    .dataframe thead th {\n",
              "        text-align: right;\n",
              "    }\n",
              "</style>\n",
              "<table border=\"1\" class=\"dataframe\">\n",
              "  <thead>\n",
              "    <tr style=\"text-align: right;\">\n",
              "      <th>Dependents</th>\n",
              "      <th>0</th>\n",
              "      <th>1</th>\n",
              "      <th>2</th>\n",
              "      <th>3</th>\n",
              "    </tr>\n",
              "    <tr>\n",
              "      <th>Loan_Status</th>\n",
              "      <th></th>\n",
              "      <th></th>\n",
              "      <th></th>\n",
              "      <th></th>\n",
              "    </tr>\n",
              "  </thead>\n",
              "  <tbody>\n",
              "    <tr>\n",
              "      <th>N</th>\n",
              "      <td>0.313889</td>\n",
              "      <td>0.352941</td>\n",
              "      <td>0.247525</td>\n",
              "      <td>0.352941</td>\n",
              "    </tr>\n",
              "    <tr>\n",
              "      <th>Y</th>\n",
              "      <td>0.686111</td>\n",
              "      <td>0.647059</td>\n",
              "      <td>0.752475</td>\n",
              "      <td>0.647059</td>\n",
              "    </tr>\n",
              "  </tbody>\n",
              "</table>\n",
              "</div>"
            ],
            "text/plain": [
              "Dependents          0         1         2         3\n",
              "Loan_Status                                        \n",
              "N            0.313889  0.352941  0.247525  0.352941\n",
              "Y            0.686111  0.647059  0.752475  0.647059"
            ]
          },
          "metadata": {
            "tags": []
          },
          "execution_count": 269
        }
      ]
    },
    {
      "cell_type": "markdown",
      "metadata": {
        "id": "fEnyKloUocjC",
        "colab_type": "text"
      },
      "source": [
        "From the above crosstab, we will conclude that 68% of people with 0 dependents, 64% of people with 1 dependent, 75% of people with 2 dependent, 64% of people with 3 dependents are approved to loan."
      ]
    },
    {
      "cell_type": "markdown",
      "metadata": {
        "id": "OQVEDs9jqbBy",
        "colab_type": "text"
      },
      "source": [
        "#Education vs Loan_Status"
      ]
    },
    {
      "cell_type": "code",
      "metadata": {
        "id": "H4Yb_7T6hZBy",
        "colab_type": "code",
        "colab": {
          "base_uri": "https://localhost:8080/",
          "height": 136
        },
        "outputId": "6ad13e80-0bba-4b5e-b576-eeca0e9113bf"
      },
      "source": [
        "#Let's find the count of Loan_Status categories based on Education\n",
        "\n",
        "pd.crosstab(index=Train_set['Loan_Status'],columns=Train_set['Education'])"
      ],
      "execution_count": 270,
      "outputs": [
        {
          "output_type": "execute_result",
          "data": {
            "text/html": [
              "<div>\n",
              "<style scoped>\n",
              "    .dataframe tbody tr th:only-of-type {\n",
              "        vertical-align: middle;\n",
              "    }\n",
              "\n",
              "    .dataframe tbody tr th {\n",
              "        vertical-align: top;\n",
              "    }\n",
              "\n",
              "    .dataframe thead th {\n",
              "        text-align: right;\n",
              "    }\n",
              "</style>\n",
              "<table border=\"1\" class=\"dataframe\">\n",
              "  <thead>\n",
              "    <tr style=\"text-align: right;\">\n",
              "      <th>Education</th>\n",
              "      <th>Graduate</th>\n",
              "      <th>Not Graduate</th>\n",
              "    </tr>\n",
              "    <tr>\n",
              "      <th>Loan_Status</th>\n",
              "      <th></th>\n",
              "      <th></th>\n",
              "    </tr>\n",
              "  </thead>\n",
              "  <tbody>\n",
              "    <tr>\n",
              "      <th>N</th>\n",
              "      <td>140</td>\n",
              "      <td>52</td>\n",
              "    </tr>\n",
              "    <tr>\n",
              "      <th>Y</th>\n",
              "      <td>340</td>\n",
              "      <td>82</td>\n",
              "    </tr>\n",
              "  </tbody>\n",
              "</table>\n",
              "</div>"
            ],
            "text/plain": [
              "Education    Graduate  Not Graduate\n",
              "Loan_Status                        \n",
              "N                 140            52\n",
              "Y                 340            82"
            ]
          },
          "metadata": {
            "tags": []
          },
          "execution_count": 270
        }
      ]
    },
    {
      "cell_type": "code",
      "metadata": {
        "id": "PVRVeMhZhY_S",
        "colab_type": "code",
        "colab": {
          "base_uri": "https://localhost:8080/",
          "height": 295
        },
        "outputId": "8b20bef9-6ea0-4a69-cd1c-be3d6be308ed"
      },
      "source": [
        "pd.crosstab(index=Train_set['Loan_Status'],columns=Train_set['Education']).plot(kind='bar')\n",
        "plt.ylabel('Count')"
      ],
      "execution_count": 271,
      "outputs": [
        {
          "output_type": "execute_result",
          "data": {
            "text/plain": [
              "Text(0, 0.5, 'Count')"
            ]
          },
          "metadata": {
            "tags": []
          },
          "execution_count": 271
        },
        {
          "output_type": "display_data",
          "data": {
            "image/png": "[encoded data removed]",
            "text/plain": [
              "<Figure size 432x288 with 1 Axes>"
            ]
          },
          "metadata": {
            "tags": [],
            "needs_background": "light"
          }
        }
      ]
    },
    {
      "cell_type": "markdown",
      "metadata": {
        "id": "4s6fhnzprCTH",
        "colab_type": "text"
      },
      "source": [
        "Among the loan approved people (i.e., Loan_Status=Y), **most of them are Graduates.**"
      ]
    },
    {
      "cell_type": "code",
      "metadata": {
        "id": "r5kuNxcQhY89",
        "colab_type": "code",
        "colab": {
          "base_uri": "https://localhost:8080/",
          "height": 136
        },
        "outputId": "4f4c725b-9405-4b46-dcc2-3b1726ce0ff7"
      },
      "source": [
        "pd.crosstab(index=Train_set['Loan_Status'],columns=Train_set['Education'],normalize='columns')"
      ],
      "execution_count": 272,
      "outputs": [
        {
          "output_type": "execute_result",
          "data": {
            "text/html": [
              "<div>\n",
              "<style scoped>\n",
              "    .dataframe tbody tr th:only-of-type {\n",
              "        vertical-align: middle;\n",
              "    }\n",
              "\n",
              "    .dataframe tbody tr th {\n",
              "        vertical-align: top;\n",
              "    }\n",
              "\n",
              "    .dataframe thead th {\n",
              "        text-align: right;\n",
              "    }\n",
              "</style>\n",
              "<table border=\"1\" class=\"dataframe\">\n",
              "  <thead>\n",
              "    <tr style=\"text-align: right;\">\n",
              "      <th>Education</th>\n",
              "      <th>Graduate</th>\n",
              "      <th>Not Graduate</th>\n",
              "    </tr>\n",
              "    <tr>\n",
              "      <th>Loan_Status</th>\n",
              "      <th></th>\n",
              "      <th></th>\n",
              "    </tr>\n",
              "  </thead>\n",
              "  <tbody>\n",
              "    <tr>\n",
              "      <th>N</th>\n",
              "      <td>0.291667</td>\n",
              "      <td>0.38806</td>\n",
              "    </tr>\n",
              "    <tr>\n",
              "      <th>Y</th>\n",
              "      <td>0.708333</td>\n",
              "      <td>0.61194</td>\n",
              "    </tr>\n",
              "  </tbody>\n",
              "</table>\n",
              "</div>"
            ],
            "text/plain": [
              "Education    Graduate  Not Graduate\n",
              "Loan_Status                        \n",
              "N            0.291667       0.38806\n",
              "Y            0.708333       0.61194"
            ]
          },
          "metadata": {
            "tags": []
          },
          "execution_count": 272
        }
      ]
    },
    {
      "cell_type": "markdown",
      "metadata": {
        "id": "IBmF9mh1rbf2",
        "colab_type": "text"
      },
      "source": [
        "From the above crosstab, we will conclude that **70% of Graduates and 61% of Non-Graduates are approved to loan** (loan is not approved to 30% of Graduates and 39% of Non-Graduates)"
      ]
    },
    {
      "cell_type": "markdown",
      "metadata": {
        "id": "umGGN_jFrwE6",
        "colab_type": "text"
      },
      "source": [
        "#Employment vs Loan_Status"
      ]
    },
    {
      "cell_type": "code",
      "metadata": {
        "id": "5we3V0HohY1p",
        "colab_type": "code",
        "colab": {
          "base_uri": "https://localhost:8080/",
          "height": 136
        },
        "outputId": "31914b64-1967-4247-e7d0-3d372d4f64bd"
      },
      "source": [
        "#Let's find the count of Loan_Status categories based on Employment\n",
        "\n",
        "pd.crosstab(index=Train_set['Loan_Status'],columns=Train_set['Self_Employed'])"
      ],
      "execution_count": 273,
      "outputs": [
        {
          "output_type": "execute_result",
          "data": {
            "text/html": [
              "<div>\n",
              "<style scoped>\n",
              "    .dataframe tbody tr th:only-of-type {\n",
              "        vertical-align: middle;\n",
              "    }\n",
              "\n",
              "    .dataframe tbody tr th {\n",
              "        vertical-align: top;\n",
              "    }\n",
              "\n",
              "    .dataframe thead th {\n",
              "        text-align: right;\n",
              "    }\n",
              "</style>\n",
              "<table border=\"1\" class=\"dataframe\">\n",
              "  <thead>\n",
              "    <tr style=\"text-align: right;\">\n",
              "      <th>Self_Employed</th>\n",
              "      <th>No</th>\n",
              "      <th>Yes</th>\n",
              "    </tr>\n",
              "    <tr>\n",
              "      <th>Loan_Status</th>\n",
              "      <th></th>\n",
              "      <th></th>\n",
              "    </tr>\n",
              "  </thead>\n",
              "  <tbody>\n",
              "    <tr>\n",
              "      <th>N</th>\n",
              "      <td>166</td>\n",
              "      <td>26</td>\n",
              "    </tr>\n",
              "    <tr>\n",
              "      <th>Y</th>\n",
              "      <td>366</td>\n",
              "      <td>56</td>\n",
              "    </tr>\n",
              "  </tbody>\n",
              "</table>\n",
              "</div>"
            ],
            "text/plain": [
              "Self_Employed   No  Yes\n",
              "Loan_Status            \n",
              "N              166   26\n",
              "Y              366   56"
            ]
          },
          "metadata": {
            "tags": []
          },
          "execution_count": 273
        }
      ]
    },
    {
      "cell_type": "code",
      "metadata": {
        "id": "JZ6Ysq4PhYZA",
        "colab_type": "code",
        "colab": {
          "base_uri": "https://localhost:8080/",
          "height": 295
        },
        "outputId": "89f47ad9-e4b3-47de-87af-7b10e0dd6470"
      },
      "source": [
        "pd.crosstab(index=Train_set['Loan_Status'],columns=Train_set['Self_Employed']).plot(kind='bar')\n",
        "plt.ylabel('Count')"
      ],
      "execution_count": 274,
      "outputs": [
        {
          "output_type": "execute_result",
          "data": {
            "text/plain": [
              "Text(0, 0.5, 'Count')"
            ]
          },
          "metadata": {
            "tags": []
          },
          "execution_count": 274
        },
        {
          "output_type": "display_data",
          "data": {
            "image/png": "[encoded data removed]",
            "text/plain": [
              "<Figure size 432x288 with 1 Axes>"
            ]
          },
          "metadata": {
            "tags": [],
            "needs_background": "light"
          }
        }
      ]
    },
    {
      "cell_type": "markdown",
      "metadata": {
        "id": "qR-df8QnsAZE",
        "colab_type": "text"
      },
      "source": [
        "Among the loan approved people (i.e., Loan_Status=Y), **most of them are Not Self-Employed.**"
      ]
    },
    {
      "cell_type": "code",
      "metadata": {
        "id": "_pRN_R54q9qJ",
        "colab_type": "code",
        "colab": {
          "base_uri": "https://localhost:8080/",
          "height": 136
        },
        "outputId": "8ee6a942-96f1-4586-bce3-251ac84cb4a5"
      },
      "source": [
        "pd.crosstab(index=Train_set['Loan_Status'],columns=Train_set['Self_Employed'],normalize='columns')"
      ],
      "execution_count": 275,
      "outputs": [
        {
          "output_type": "execute_result",
          "data": {
            "text/html": [
              "<div>\n",
              "<style scoped>\n",
              "    .dataframe tbody tr th:only-of-type {\n",
              "        vertical-align: middle;\n",
              "    }\n",
              "\n",
              "    .dataframe tbody tr th {\n",
              "        vertical-align: top;\n",
              "    }\n",
              "\n",
              "    .dataframe thead th {\n",
              "        text-align: right;\n",
              "    }\n",
              "</style>\n",
              "<table border=\"1\" class=\"dataframe\">\n",
              "  <thead>\n",
              "    <tr style=\"text-align: right;\">\n",
              "      <th>Self_Employed</th>\n",
              "      <th>No</th>\n",
              "      <th>Yes</th>\n",
              "    </tr>\n",
              "    <tr>\n",
              "      <th>Loan_Status</th>\n",
              "      <th></th>\n",
              "      <th></th>\n",
              "    </tr>\n",
              "  </thead>\n",
              "  <tbody>\n",
              "    <tr>\n",
              "      <th>N</th>\n",
              "      <td>0.31203</td>\n",
              "      <td>0.317073</td>\n",
              "    </tr>\n",
              "    <tr>\n",
              "      <th>Y</th>\n",
              "      <td>0.68797</td>\n",
              "      <td>0.682927</td>\n",
              "    </tr>\n",
              "  </tbody>\n",
              "</table>\n",
              "</div>"
            ],
            "text/plain": [
              "Self_Employed       No       Yes\n",
              "Loan_Status                     \n",
              "N              0.31203  0.317073\n",
              "Y              0.68797  0.682927"
            ]
          },
          "metadata": {
            "tags": []
          },
          "execution_count": 275
        }
      ]
    },
    {
      "cell_type": "markdown",
      "metadata": {
        "id": "3nnLwBAisEkh",
        "colab_type": "text"
      },
      "source": [
        "From the above crosstab, we will conclude that **68% of both Self Employed and Non-Self Employed are approved to loan** (loan is not approved to 32% of both Self Employed and Non-Self Employed are approved to loan)"
      ]
    },
    {
      "cell_type": "markdown",
      "metadata": {
        "id": "CTMBCCuBtJP7",
        "colab_type": "text"
      },
      "source": [
        "#Credit_History vs Loan_Status"
      ]
    },
    {
      "cell_type": "code",
      "metadata": {
        "id": "pIbZzoFKq9mh",
        "colab_type": "code",
        "colab": {
          "base_uri": "https://localhost:8080/",
          "height": 136
        },
        "outputId": "5430db88-8266-4041-f462-aae78200b55a"
      },
      "source": [
        "#Let's find the count of Loan_Status categories based on Credit_History\n",
        "\n",
        "pd.crosstab(index=Train_set['Loan_Status'],columns=Train_set['Credit_History'])"
      ],
      "execution_count": 276,
      "outputs": [
        {
          "output_type": "execute_result",
          "data": {
            "text/html": [
              "<div>\n",
              "<style scoped>\n",
              "    .dataframe tbody tr th:only-of-type {\n",
              "        vertical-align: middle;\n",
              "    }\n",
              "\n",
              "    .dataframe tbody tr th {\n",
              "        vertical-align: top;\n",
              "    }\n",
              "\n",
              "    .dataframe thead th {\n",
              "        text-align: right;\n",
              "    }\n",
              "</style>\n",
              "<table border=\"1\" class=\"dataframe\">\n",
              "  <thead>\n",
              "    <tr style=\"text-align: right;\">\n",
              "      <th>Credit_History</th>\n",
              "      <th>0.0</th>\n",
              "      <th>1.0</th>\n",
              "    </tr>\n",
              "    <tr>\n",
              "      <th>Loan_Status</th>\n",
              "      <th></th>\n",
              "      <th></th>\n",
              "    </tr>\n",
              "  </thead>\n",
              "  <tbody>\n",
              "    <tr>\n",
              "      <th>N</th>\n",
              "      <td>82</td>\n",
              "      <td>110</td>\n",
              "    </tr>\n",
              "    <tr>\n",
              "      <th>Y</th>\n",
              "      <td>7</td>\n",
              "      <td>415</td>\n",
              "    </tr>\n",
              "  </tbody>\n",
              "</table>\n",
              "</div>"
            ],
            "text/plain": [
              "Credit_History  0.0  1.0\n",
              "Loan_Status             \n",
              "N                82  110\n",
              "Y                 7  415"
            ]
          },
          "metadata": {
            "tags": []
          },
          "execution_count": 276
        }
      ]
    },
    {
      "cell_type": "code",
      "metadata": {
        "id": "6dKfl62dq9jJ",
        "colab_type": "code",
        "colab": {
          "base_uri": "https://localhost:8080/",
          "height": 295
        },
        "outputId": "7f3b8d7b-bc06-4b12-b618-a519e7f9078e"
      },
      "source": [
        "pd.crosstab(index=Train_set['Loan_Status'],columns=Train_set['Credit_History']).plot(kind='bar')\n",
        "plt.ylabel('Count')"
      ],
      "execution_count": 277,
      "outputs": [
        {
          "output_type": "execute_result",
          "data": {
            "text/plain": [
              "Text(0, 0.5, 'Count')"
            ]
          },
          "metadata": {
            "tags": []
          },
          "execution_count": 277
        },
        {
          "output_type": "display_data",
          "data": {
            "image/png": "[encoded data removed]",
            "text/plain": [
              "<Figure size 432x288 with 1 Axes>"
            ]
          },
          "metadata": {
            "tags": [],
            "needs_background": "light"
          }
        }
      ]
    },
    {
      "cell_type": "markdown",
      "metadata": {
        "id": "NFO7nBtOug2c",
        "colab_type": "text"
      },
      "source": [
        "Among the loan approved people (i.e., Loan_Status=Y), **most of them are with Credit_History = 1 (i.e., they might have repaid the previous loan)** and there are a very few people with Credit_History = 0."
      ]
    },
    {
      "cell_type": "code",
      "metadata": {
        "id": "mjieLU3yq9gl",
        "colab_type": "code",
        "colab": {
          "base_uri": "https://localhost:8080/",
          "height": 136
        },
        "outputId": "1f1dcd0f-3428-4ff8-b51f-3577cbb4b2a9"
      },
      "source": [
        "pd.crosstab(index=Train_set['Loan_Status'],columns=Train_set['Credit_History'],normalize='columns')"
      ],
      "execution_count": 278,
      "outputs": [
        {
          "output_type": "execute_result",
          "data": {
            "text/html": [
              "<div>\n",
              "<style scoped>\n",
              "    .dataframe tbody tr th:only-of-type {\n",
              "        vertical-align: middle;\n",
              "    }\n",
              "\n",
              "    .dataframe tbody tr th {\n",
              "        vertical-align: top;\n",
              "    }\n",
              "\n",
              "    .dataframe thead th {\n",
              "        text-align: right;\n",
              "    }\n",
              "</style>\n",
              "<table border=\"1\" class=\"dataframe\">\n",
              "  <thead>\n",
              "    <tr style=\"text-align: right;\">\n",
              "      <th>Credit_History</th>\n",
              "      <th>0.0</th>\n",
              "      <th>1.0</th>\n",
              "    </tr>\n",
              "    <tr>\n",
              "      <th>Loan_Status</th>\n",
              "      <th></th>\n",
              "      <th></th>\n",
              "    </tr>\n",
              "  </thead>\n",
              "  <tbody>\n",
              "    <tr>\n",
              "      <th>N</th>\n",
              "      <td>0.921348</td>\n",
              "      <td>0.209524</td>\n",
              "    </tr>\n",
              "    <tr>\n",
              "      <th>Y</th>\n",
              "      <td>0.078652</td>\n",
              "      <td>0.790476</td>\n",
              "    </tr>\n",
              "  </tbody>\n",
              "</table>\n",
              "</div>"
            ],
            "text/plain": [
              "Credit_History       0.0       1.0\n",
              "Loan_Status                       \n",
              "N               0.921348  0.209524\n",
              "Y               0.078652  0.790476"
            ]
          },
          "metadata": {
            "tags": []
          },
          "execution_count": 278
        }
      ]
    },
    {
      "cell_type": "markdown",
      "metadata": {
        "id": "RuCEXupGunWQ",
        "colab_type": "text"
      },
      "source": [
        "From the above crosstab, we will conclude that **79% of people with CH=1 and only 8% of people with CH=0 are approved to loan** (loan is not approved to 21% of people with CH=1 and  **92% of people with CH=0**)"
      ]
    },
    {
      "cell_type": "markdown",
      "metadata": {
        "id": "ErpbN-fz03xh",
        "colab_type": "text"
      },
      "source": [
        "#Property_Area vs Loan_Status"
      ]
    },
    {
      "cell_type": "code",
      "metadata": {
        "id": "2mdoPtuTuaaf",
        "colab_type": "code",
        "colab": {
          "base_uri": "https://localhost:8080/",
          "height": 136
        },
        "outputId": "596449e0-1483-48bb-de48-a3c50143d157"
      },
      "source": [
        "#Let's find the count of Loan_Status categories based on Property Area\n",
        "\n",
        "pd.crosstab(index=Train_set['Loan_Status'],columns=Train_set['Property_Area'])"
      ],
      "execution_count": 279,
      "outputs": [
        {
          "output_type": "execute_result",
          "data": {
            "text/html": [
              "<div>\n",
              "<style scoped>\n",
              "    .dataframe tbody tr th:only-of-type {\n",
              "        vertical-align: middle;\n",
              "    }\n",
              "\n",
              "    .dataframe tbody tr th {\n",
              "        vertical-align: top;\n",
              "    }\n",
              "\n",
              "    .dataframe thead th {\n",
              "        text-align: right;\n",
              "    }\n",
              "</style>\n",
              "<table border=\"1\" class=\"dataframe\">\n",
              "  <thead>\n",
              "    <tr style=\"text-align: right;\">\n",
              "      <th>Property_Area</th>\n",
              "      <th>Rural</th>\n",
              "      <th>Semiurban</th>\n",
              "      <th>Urban</th>\n",
              "    </tr>\n",
              "    <tr>\n",
              "      <th>Loan_Status</th>\n",
              "      <th></th>\n",
              "      <th></th>\n",
              "      <th></th>\n",
              "    </tr>\n",
              "  </thead>\n",
              "  <tbody>\n",
              "    <tr>\n",
              "      <th>N</th>\n",
              "      <td>69</td>\n",
              "      <td>54</td>\n",
              "      <td>69</td>\n",
              "    </tr>\n",
              "    <tr>\n",
              "      <th>Y</th>\n",
              "      <td>110</td>\n",
              "      <td>179</td>\n",
              "      <td>133</td>\n",
              "    </tr>\n",
              "  </tbody>\n",
              "</table>\n",
              "</div>"
            ],
            "text/plain": [
              "Property_Area  Rural  Semiurban  Urban\n",
              "Loan_Status                           \n",
              "N                 69         54     69\n",
              "Y                110        179    133"
            ]
          },
          "metadata": {
            "tags": []
          },
          "execution_count": 279
        }
      ]
    },
    {
      "cell_type": "code",
      "metadata": {
        "id": "1JjewJaX1J6a",
        "colab_type": "code",
        "colab": {
          "base_uri": "https://localhost:8080/",
          "height": 295
        },
        "outputId": "4e722b6e-00fc-4973-a4c1-5eaf532e69a5"
      },
      "source": [
        "pd.crosstab(index=Train_set['Loan_Status'],columns=Train_set['Property_Area']).plot(kind='bar')\n",
        "plt.ylabel('Count')"
      ],
      "execution_count": 280,
      "outputs": [
        {
          "output_type": "execute_result",
          "data": {
            "text/plain": [
              "Text(0, 0.5, 'Count')"
            ]
          },
          "metadata": {
            "tags": []
          },
          "execution_count": 280
        },
        {
          "output_type": "display_data",
          "data": {
            "image/png": "[encoded data removed]",
            "text/plain": [
              "<Figure size 432x288 with 1 Axes>"
            ]
          },
          "metadata": {
            "tags": [],
            "needs_background": "light"
          }
        }
      ]
    },
    {
      "cell_type": "markdown",
      "metadata": {
        "id": "CgYL1sVQ1W0E",
        "colab_type": "text"
      },
      "source": [
        "Among the loan approved people (i.e., Loan_Status=Y), **most of them are from Semiurban area.**"
      ]
    },
    {
      "cell_type": "code",
      "metadata": {
        "id": "RhovK2Ie1J2_",
        "colab_type": "code",
        "colab": {
          "base_uri": "https://localhost:8080/",
          "height": 136
        },
        "outputId": "41d2a486-2bc1-412a-bc95-2d88d7bd3c6e"
      },
      "source": [
        "pd.crosstab(index=Train_set['Loan_Status'],columns=Train_set['Property_Area'],normalize='columns')"
      ],
      "execution_count": 281,
      "outputs": [
        {
          "output_type": "execute_result",
          "data": {
            "text/html": [
              "<div>\n",
              "<style scoped>\n",
              "    .dataframe tbody tr th:only-of-type {\n",
              "        vertical-align: middle;\n",
              "    }\n",
              "\n",
              "    .dataframe tbody tr th {\n",
              "        vertical-align: top;\n",
              "    }\n",
              "\n",
              "    .dataframe thead th {\n",
              "        text-align: right;\n",
              "    }\n",
              "</style>\n",
              "<table border=\"1\" class=\"dataframe\">\n",
              "  <thead>\n",
              "    <tr style=\"text-align: right;\">\n",
              "      <th>Property_Area</th>\n",
              "      <th>Rural</th>\n",
              "      <th>Semiurban</th>\n",
              "      <th>Urban</th>\n",
              "    </tr>\n",
              "    <tr>\n",
              "      <th>Loan_Status</th>\n",
              "      <th></th>\n",
              "      <th></th>\n",
              "      <th></th>\n",
              "    </tr>\n",
              "  </thead>\n",
              "  <tbody>\n",
              "    <tr>\n",
              "      <th>N</th>\n",
              "      <td>0.385475</td>\n",
              "      <td>0.23176</td>\n",
              "      <td>0.341584</td>\n",
              "    </tr>\n",
              "    <tr>\n",
              "      <th>Y</th>\n",
              "      <td>0.614525</td>\n",
              "      <td>0.76824</td>\n",
              "      <td>0.658416</td>\n",
              "    </tr>\n",
              "  </tbody>\n",
              "</table>\n",
              "</div>"
            ],
            "text/plain": [
              "Property_Area     Rural  Semiurban     Urban\n",
              "Loan_Status                                 \n",
              "N              0.385475    0.23176  0.341584\n",
              "Y              0.614525    0.76824  0.658416"
            ]
          },
          "metadata": {
            "tags": []
          },
          "execution_count": 281
        }
      ]
    },
    {
      "cell_type": "markdown",
      "metadata": {
        "id": "lBf__bEt1YlB",
        "colab_type": "text"
      },
      "source": [
        "From the above crosstab, we will conclude that **61% of people from Rural area, 77% of people from Semiurban area and  66% of people from Urban area are approved to loan.**"
      ]
    },
    {
      "cell_type": "markdown",
      "metadata": {
        "id": "Zxz2D8d02-79",
        "colab_type": "text"
      },
      "source": [
        "#get_dummies (One hot encoding)"
      ]
    },
    {
      "cell_type": "markdown",
      "metadata": {
        "id": "y5-OnEc9ddQe",
        "colab_type": "text"
      },
      "source": [
        "**Train_set**"
      ]
    },
    {
      "cell_type": "code",
      "metadata": {
        "id": "I8tc35c4w8vu",
        "colab_type": "code",
        "colab": {}
      },
      "source": [
        "#Loan_Status\n",
        "Train_set['Loan_Status']=pd.get_dummies(Train_set['Loan_Status'],drop_first=True)\n",
        "#Yes=1, No=0\n",
        "\n",
        "#Gender\n",
        "Train_set['Gender']=pd.get_dummies(Train_set['Gender'],drop_first=True)\n",
        "#Male=1, Female=0\n",
        "\n",
        "#Marital Status\n",
        "Train_set['Married']=pd.get_dummies(Train_set['Married'],drop_first=True)\n",
        "#Married=1, Not Married=0\n",
        "\n",
        "#Employment\n",
        "Train_set['Self_Employed']=pd.get_dummies(Train_set['Self_Employed'],drop_first=True)\n",
        "#Yes=1, No=0\n",
        "\n",
        "#Education\n",
        "Train_set['Education']=pd.get_dummies(Train_set['Education']=='Graduate',drop_first=True)\n",
        "#Graduate=1, Not Graduate=0\n",
        "\n",
        "#Property_Area\n",
        "Train_set['Property_Area'] = Train_set['Property_Area'].map({'Rural':0,'Semiurban':1,'Urban':2})\n",
        "#Rural=0, Semiurban=1, Urban=2"
      ],
      "execution_count": 282,
      "outputs": []
    },
    {
      "cell_type": "code",
      "metadata": {
        "id": "WeWzUZl73GvV",
        "colab_type": "code",
        "colab": {
          "base_uri": "https://localhost:8080/",
          "height": 195
        },
        "outputId": "fcdf0bbe-17d1-4f21-cd2f-15f7874d6a1b"
      },
      "source": [
        "Train_set.head(5)"
      ],
      "execution_count": 283,
      "outputs": [
        {
          "output_type": "execute_result",
          "data": {
            "text/html": [
              "<div>\n",
              "<style scoped>\n",
              "    .dataframe tbody tr th:only-of-type {\n",
              "        vertical-align: middle;\n",
              "    }\n",
              "\n",
              "    .dataframe tbody tr th {\n",
              "        vertical-align: top;\n",
              "    }\n",
              "\n",
              "    .dataframe thead th {\n",
              "        text-align: right;\n",
              "    }\n",
              "</style>\n",
              "<table border=\"1\" class=\"dataframe\">\n",
              "  <thead>\n",
              "    <tr style=\"text-align: right;\">\n",
              "      <th></th>\n",
              "      <th>Loan_ID</th>\n",
              "      <th>Gender</th>\n",
              "      <th>Married</th>\n",
              "      <th>Dependents</th>\n",
              "      <th>Education</th>\n",
              "      <th>Self_Employed</th>\n",
              "      <th>ApplicantIncome</th>\n",
              "      <th>CoapplicantIncome</th>\n",
              "      <th>LoanAmount</th>\n",
              "      <th>Loan_Amount_Term</th>\n",
              "      <th>Credit_History</th>\n",
              "      <th>Property_Area</th>\n",
              "      <th>Loan_Status</th>\n",
              "    </tr>\n",
              "  </thead>\n",
              "  <tbody>\n",
              "    <tr>\n",
              "      <th>0</th>\n",
              "      <td>LP001002</td>\n",
              "      <td>1</td>\n",
              "      <td>0</td>\n",
              "      <td>0</td>\n",
              "      <td>1</td>\n",
              "      <td>0</td>\n",
              "      <td>5849</td>\n",
              "      <td>0.0</td>\n",
              "      <td>146.412162</td>\n",
              "      <td>360.0</td>\n",
              "      <td>1.0</td>\n",
              "      <td>2</td>\n",
              "      <td>1</td>\n",
              "    </tr>\n",
              "    <tr>\n",
              "      <th>1</th>\n",
              "      <td>LP001003</td>\n",
              "      <td>1</td>\n",
              "      <td>1</td>\n",
              "      <td>1</td>\n",
              "      <td>1</td>\n",
              "      <td>0</td>\n",
              "      <td>4583</td>\n",
              "      <td>1508.0</td>\n",
              "      <td>128.000000</td>\n",
              "      <td>360.0</td>\n",
              "      <td>1.0</td>\n",
              "      <td>0</td>\n",
              "      <td>0</td>\n",
              "    </tr>\n",
              "    <tr>\n",
              "      <th>2</th>\n",
              "      <td>LP001005</td>\n",
              "      <td>1</td>\n",
              "      <td>1</td>\n",
              "      <td>0</td>\n",
              "      <td>1</td>\n",
              "      <td>1</td>\n",
              "      <td>3000</td>\n",
              "      <td>0.0</td>\n",
              "      <td>66.000000</td>\n",
              "      <td>360.0</td>\n",
              "      <td>1.0</td>\n",
              "      <td>2</td>\n",
              "      <td>1</td>\n",
              "    </tr>\n",
              "    <tr>\n",
              "      <th>3</th>\n",
              "      <td>LP001006</td>\n",
              "      <td>1</td>\n",
              "      <td>1</td>\n",
              "      <td>0</td>\n",
              "      <td>0</td>\n",
              "      <td>0</td>\n",
              "      <td>2583</td>\n",
              "      <td>2358.0</td>\n",
              "      <td>120.000000</td>\n",
              "      <td>360.0</td>\n",
              "      <td>1.0</td>\n",
              "      <td>2</td>\n",
              "      <td>1</td>\n",
              "    </tr>\n",
              "    <tr>\n",
              "      <th>4</th>\n",
              "      <td>LP001008</td>\n",
              "      <td>1</td>\n",
              "      <td>0</td>\n",
              "      <td>0</td>\n",
              "      <td>1</td>\n",
              "      <td>0</td>\n",
              "      <td>6000</td>\n",
              "      <td>0.0</td>\n",
              "      <td>141.000000</td>\n",
              "      <td>360.0</td>\n",
              "      <td>1.0</td>\n",
              "      <td>2</td>\n",
              "      <td>1</td>\n",
              "    </tr>\n",
              "  </tbody>\n",
              "</table>\n",
              "</div>"
            ],
            "text/plain": [
              "    Loan_ID  Gender  Married  ...  Credit_History  Property_Area  Loan_Status\n",
              "0  LP001002       1        0  ...             1.0              2            1\n",
              "1  LP001003       1        1  ...             1.0              0            0\n",
              "2  LP001005       1        1  ...             1.0              2            1\n",
              "3  LP001006       1        1  ...             1.0              2            1\n",
              "4  LP001008       1        0  ...             1.0              2            1\n",
              "\n",
              "[5 rows x 13 columns]"
            ]
          },
          "metadata": {
            "tags": []
          },
          "execution_count": 283
        }
      ]
    },
    {
      "cell_type": "markdown",
      "metadata": {
        "id": "c4qQNnbKdyG2",
        "colab_type": "text"
      },
      "source": [
        "**Test_set**"
      ]
    },
    {
      "cell_type": "code",
      "metadata": {
        "id": "oTRpsjNXd0ic",
        "colab_type": "code",
        "colab": {}
      },
      "source": [
        "#Gender\n",
        "Test_set['Gender']=pd.get_dummies(Test_set['Gender'],drop_first=True)\n",
        "#Male=1, Female=0\n",
        "\n",
        "#Marital Status\n",
        "Test_set['Married']=pd.get_dummies(Test_set['Married'],drop_first=True)\n",
        "#Married=1, Not Married=0\n",
        "\n",
        "#Employment\n",
        "Test_set['Self_Employed']=pd.get_dummies(Test_set['Self_Employed'],drop_first=True)\n",
        "#Yes=1, No=0\n",
        "\n",
        "#Education\n",
        "Test_set['Education']=pd.get_dummies(Test_set['Education']=='Graduate',drop_first=True)\n",
        "#Graduate=1, Not Graduate=0\n",
        "\n",
        "#Property_Area\n",
        "Test_set['Property_Area'] = Test_set['Property_Area'].map({'Rural':0,'Semiurban':1,'Urban':2})\n",
        "#Rural=0, Semiurban=1, Urban=2"
      ],
      "execution_count": 284,
      "outputs": []
    },
    {
      "cell_type": "code",
      "metadata": {
        "id": "wufvst-iemqp",
        "colab_type": "code",
        "colab": {
          "base_uri": "https://localhost:8080/",
          "height": 195
        },
        "outputId": "b02ab474-585a-44a2-ebad-35c53bd0c451"
      },
      "source": [
        "Test_set.head(5)"
      ],
      "execution_count": 285,
      "outputs": [
        {
          "output_type": "execute_result",
          "data": {
            "text/html": [
              "<div>\n",
              "<style scoped>\n",
              "    .dataframe tbody tr th:only-of-type {\n",
              "        vertical-align: middle;\n",
              "    }\n",
              "\n",
              "    .dataframe tbody tr th {\n",
              "        vertical-align: top;\n",
              "    }\n",
              "\n",
              "    .dataframe thead th {\n",
              "        text-align: right;\n",
              "    }\n",
              "</style>\n",
              "<table border=\"1\" class=\"dataframe\">\n",
              "  <thead>\n",
              "    <tr style=\"text-align: right;\">\n",
              "      <th></th>\n",
              "      <th>Loan_ID</th>\n",
              "      <th>Gender</th>\n",
              "      <th>Married</th>\n",
              "      <th>Dependents</th>\n",
              "      <th>Education</th>\n",
              "      <th>Self_Employed</th>\n",
              "      <th>ApplicantIncome</th>\n",
              "      <th>CoapplicantIncome</th>\n",
              "      <th>LoanAmount</th>\n",
              "      <th>Loan_Amount_Term</th>\n",
              "      <th>Credit_History</th>\n",
              "      <th>Property_Area</th>\n",
              "    </tr>\n",
              "  </thead>\n",
              "  <tbody>\n",
              "    <tr>\n",
              "      <th>0</th>\n",
              "      <td>LP001015</td>\n",
              "      <td>1</td>\n",
              "      <td>1</td>\n",
              "      <td>0</td>\n",
              "      <td>1</td>\n",
              "      <td>0</td>\n",
              "      <td>5720</td>\n",
              "      <td>0</td>\n",
              "      <td>110.0</td>\n",
              "      <td>360.0</td>\n",
              "      <td>1.0</td>\n",
              "      <td>2</td>\n",
              "    </tr>\n",
              "    <tr>\n",
              "      <th>1</th>\n",
              "      <td>LP001022</td>\n",
              "      <td>1</td>\n",
              "      <td>1</td>\n",
              "      <td>1</td>\n",
              "      <td>1</td>\n",
              "      <td>0</td>\n",
              "      <td>3076</td>\n",
              "      <td>1500</td>\n",
              "      <td>126.0</td>\n",
              "      <td>360.0</td>\n",
              "      <td>1.0</td>\n",
              "      <td>2</td>\n",
              "    </tr>\n",
              "    <tr>\n",
              "      <th>2</th>\n",
              "      <td>LP001031</td>\n",
              "      <td>1</td>\n",
              "      <td>1</td>\n",
              "      <td>2</td>\n",
              "      <td>1</td>\n",
              "      <td>0</td>\n",
              "      <td>5000</td>\n",
              "      <td>1800</td>\n",
              "      <td>208.0</td>\n",
              "      <td>360.0</td>\n",
              "      <td>1.0</td>\n",
              "      <td>2</td>\n",
              "    </tr>\n",
              "    <tr>\n",
              "      <th>3</th>\n",
              "      <td>LP001035</td>\n",
              "      <td>1</td>\n",
              "      <td>1</td>\n",
              "      <td>2</td>\n",
              "      <td>1</td>\n",
              "      <td>0</td>\n",
              "      <td>2340</td>\n",
              "      <td>2546</td>\n",
              "      <td>100.0</td>\n",
              "      <td>360.0</td>\n",
              "      <td>1.0</td>\n",
              "      <td>2</td>\n",
              "    </tr>\n",
              "    <tr>\n",
              "      <th>4</th>\n",
              "      <td>LP001051</td>\n",
              "      <td>1</td>\n",
              "      <td>0</td>\n",
              "      <td>0</td>\n",
              "      <td>0</td>\n",
              "      <td>0</td>\n",
              "      <td>3276</td>\n",
              "      <td>0</td>\n",
              "      <td>78.0</td>\n",
              "      <td>360.0</td>\n",
              "      <td>1.0</td>\n",
              "      <td>2</td>\n",
              "    </tr>\n",
              "  </tbody>\n",
              "</table>\n",
              "</div>"
            ],
            "text/plain": [
              "    Loan_ID  Gender  Married  ...  Loan_Amount_Term  Credit_History  Property_Area\n",
              "0  LP001015       1        1  ...             360.0             1.0              2\n",
              "1  LP001022       1        1  ...             360.0             1.0              2\n",
              "2  LP001031       1        1  ...             360.0             1.0              2\n",
              "3  LP001035       1        1  ...             360.0             1.0              2\n",
              "4  LP001051       1        0  ...             360.0             1.0              2\n",
              "\n",
              "[5 rows x 12 columns]"
            ]
          },
          "metadata": {
            "tags": []
          },
          "execution_count": 285
        }
      ]
    },
    {
      "cell_type": "markdown",
      "metadata": {
        "id": "Jf5FK9BqYNas",
        "colab_type": "text"
      },
      "source": [
        "#Data Correlation"
      ]
    },
    {
      "cell_type": "code",
      "metadata": {
        "id": "H2dVt27j8Sup",
        "colab_type": "code",
        "colab": {
          "base_uri": "https://localhost:8080/",
          "height": 422
        },
        "outputId": "febe9526-2f39-4449-fe8c-a8e378be754e"
      },
      "source": [
        "#Let's check the correlation of Train_set\n",
        "Train_set.corr()"
      ],
      "execution_count": 286,
      "outputs": [
        {
          "output_type": "execute_result",
          "data": {
            "text/html": [
              "<div>\n",
              "<style scoped>\n",
              "    .dataframe tbody tr th:only-of-type {\n",
              "        vertical-align: middle;\n",
              "    }\n",
              "\n",
              "    .dataframe tbody tr th {\n",
              "        vertical-align: top;\n",
              "    }\n",
              "\n",
              "    .dataframe thead th {\n",
              "        text-align: right;\n",
              "    }\n",
              "</style>\n",
              "<table border=\"1\" class=\"dataframe\">\n",
              "  <thead>\n",
              "    <tr style=\"text-align: right;\">\n",
              "      <th></th>\n",
              "      <th>Gender</th>\n",
              "      <th>Married</th>\n",
              "      <th>Dependents</th>\n",
              "      <th>Education</th>\n",
              "      <th>Self_Employed</th>\n",
              "      <th>ApplicantIncome</th>\n",
              "      <th>CoapplicantIncome</th>\n",
              "      <th>LoanAmount</th>\n",
              "      <th>Loan_Amount_Term</th>\n",
              "      <th>Credit_History</th>\n",
              "      <th>Property_Area</th>\n",
              "      <th>Loan_Status</th>\n",
              "    </tr>\n",
              "  </thead>\n",
              "  <tbody>\n",
              "    <tr>\n",
              "      <th>Gender</th>\n",
              "      <td>1.000000</td>\n",
              "      <td>0.364569</td>\n",
              "      <td>0.172914</td>\n",
              "      <td>-0.045364</td>\n",
              "      <td>-0.000525</td>\n",
              "      <td>0.058809</td>\n",
              "      <td>0.082912</td>\n",
              "      <td>0.107930</td>\n",
              "      <td>-0.073567</td>\n",
              "      <td>0.009170</td>\n",
              "      <td>-0.025752</td>\n",
              "      <td>0.017987</td>\n",
              "    </tr>\n",
              "    <tr>\n",
              "      <th>Married</th>\n",
              "      <td>0.364569</td>\n",
              "      <td>1.000000</td>\n",
              "      <td>0.334216</td>\n",
              "      <td>-0.012304</td>\n",
              "      <td>0.004489</td>\n",
              "      <td>0.051708</td>\n",
              "      <td>0.075948</td>\n",
              "      <td>0.147141</td>\n",
              "      <td>-0.100863</td>\n",
              "      <td>0.010938</td>\n",
              "      <td>0.004257</td>\n",
              "      <td>0.091478</td>\n",
              "    </tr>\n",
              "    <tr>\n",
              "      <th>Dependents</th>\n",
              "      <td>0.172914</td>\n",
              "      <td>0.334216</td>\n",
              "      <td>1.000000</td>\n",
              "      <td>-0.055752</td>\n",
              "      <td>0.056798</td>\n",
              "      <td>0.118202</td>\n",
              "      <td>0.030430</td>\n",
              "      <td>0.163106</td>\n",
              "      <td>-0.101054</td>\n",
              "      <td>-0.040160</td>\n",
              "      <td>-0.000244</td>\n",
              "      <td>0.010118</td>\n",
              "    </tr>\n",
              "    <tr>\n",
              "      <th>Education</th>\n",
              "      <td>-0.045364</td>\n",
              "      <td>-0.012304</td>\n",
              "      <td>-0.055752</td>\n",
              "      <td>1.000000</td>\n",
              "      <td>0.010383</td>\n",
              "      <td>0.140760</td>\n",
              "      <td>0.062290</td>\n",
              "      <td>0.166998</td>\n",
              "      <td>0.077242</td>\n",
              "      <td>0.073658</td>\n",
              "      <td>0.065243</td>\n",
              "      <td>0.085884</td>\n",
              "    </tr>\n",
              "    <tr>\n",
              "      <th>Self_Employed</th>\n",
              "      <td>-0.000525</td>\n",
              "      <td>0.004489</td>\n",
              "      <td>0.056798</td>\n",
              "      <td>0.010383</td>\n",
              "      <td>1.000000</td>\n",
              "      <td>0.127180</td>\n",
              "      <td>-0.016100</td>\n",
              "      <td>0.115260</td>\n",
              "      <td>-0.033943</td>\n",
              "      <td>-0.001550</td>\n",
              "      <td>-0.030860</td>\n",
              "      <td>-0.003700</td>\n",
              "    </tr>\n",
              "    <tr>\n",
              "      <th>ApplicantIncome</th>\n",
              "      <td>0.058809</td>\n",
              "      <td>0.051708</td>\n",
              "      <td>0.118202</td>\n",
              "      <td>0.140760</td>\n",
              "      <td>0.127180</td>\n",
              "      <td>1.000000</td>\n",
              "      <td>-0.116605</td>\n",
              "      <td>0.565620</td>\n",
              "      <td>-0.045242</td>\n",
              "      <td>-0.018615</td>\n",
              "      <td>-0.009500</td>\n",
              "      <td>-0.004710</td>\n",
              "    </tr>\n",
              "    <tr>\n",
              "      <th>CoapplicantIncome</th>\n",
              "      <td>0.082912</td>\n",
              "      <td>0.075948</td>\n",
              "      <td>0.030430</td>\n",
              "      <td>0.062290</td>\n",
              "      <td>-0.016100</td>\n",
              "      <td>-0.116605</td>\n",
              "      <td>1.000000</td>\n",
              "      <td>0.187828</td>\n",
              "      <td>-0.059675</td>\n",
              "      <td>0.011134</td>\n",
              "      <td>0.010522</td>\n",
              "      <td>-0.059187</td>\n",
              "    </tr>\n",
              "    <tr>\n",
              "      <th>LoanAmount</th>\n",
              "      <td>0.107930</td>\n",
              "      <td>0.147141</td>\n",
              "      <td>0.163106</td>\n",
              "      <td>0.166998</td>\n",
              "      <td>0.115260</td>\n",
              "      <td>0.565620</td>\n",
              "      <td>0.187828</td>\n",
              "      <td>1.000000</td>\n",
              "      <td>0.038801</td>\n",
              "      <td>-0.001431</td>\n",
              "      <td>-0.044776</td>\n",
              "      <td>-0.036416</td>\n",
              "    </tr>\n",
              "    <tr>\n",
              "      <th>Loan_Amount_Term</th>\n",
              "      <td>-0.073567</td>\n",
              "      <td>-0.100863</td>\n",
              "      <td>-0.101054</td>\n",
              "      <td>0.077242</td>\n",
              "      <td>-0.033943</td>\n",
              "      <td>-0.045242</td>\n",
              "      <td>-0.059675</td>\n",
              "      <td>0.038801</td>\n",
              "      <td>1.000000</td>\n",
              "      <td>0.000432</td>\n",
              "      <td>-0.077620</td>\n",
              "      <td>-0.020974</td>\n",
              "    </tr>\n",
              "    <tr>\n",
              "      <th>Credit_History</th>\n",
              "      <td>0.009170</td>\n",
              "      <td>0.010938</td>\n",
              "      <td>-0.040160</td>\n",
              "      <td>0.073658</td>\n",
              "      <td>-0.001550</td>\n",
              "      <td>-0.018615</td>\n",
              "      <td>0.011134</td>\n",
              "      <td>-0.001431</td>\n",
              "      <td>0.000432</td>\n",
              "      <td>1.000000</td>\n",
              "      <td>0.001963</td>\n",
              "      <td>0.540556</td>\n",
              "    </tr>\n",
              "    <tr>\n",
              "      <th>Property_Area</th>\n",
              "      <td>-0.025752</td>\n",
              "      <td>0.004257</td>\n",
              "      <td>-0.000244</td>\n",
              "      <td>0.065243</td>\n",
              "      <td>-0.030860</td>\n",
              "      <td>-0.009500</td>\n",
              "      <td>0.010522</td>\n",
              "      <td>-0.044776</td>\n",
              "      <td>-0.077620</td>\n",
              "      <td>0.001963</td>\n",
              "      <td>1.000000</td>\n",
              "      <td>0.032112</td>\n",
              "    </tr>\n",
              "    <tr>\n",
              "      <th>Loan_Status</th>\n",
              "      <td>0.017987</td>\n",
              "      <td>0.091478</td>\n",
              "      <td>0.010118</td>\n",
              "      <td>0.085884</td>\n",
              "      <td>-0.003700</td>\n",
              "      <td>-0.004710</td>\n",
              "      <td>-0.059187</td>\n",
              "      <td>-0.036416</td>\n",
              "      <td>-0.020974</td>\n",
              "      <td>0.540556</td>\n",
              "      <td>0.032112</td>\n",
              "      <td>1.000000</td>\n",
              "    </tr>\n",
              "  </tbody>\n",
              "</table>\n",
              "</div>"
            ],
            "text/plain": [
              "                     Gender   Married  ...  Property_Area  Loan_Status\n",
              "Gender             1.000000  0.364569  ...      -0.025752     0.017987\n",
              "Married            0.364569  1.000000  ...       0.004257     0.091478\n",
              "Dependents         0.172914  0.334216  ...      -0.000244     0.010118\n",
              "Education         -0.045364 -0.012304  ...       0.065243     0.085884\n",
              "Self_Employed     -0.000525  0.004489  ...      -0.030860    -0.003700\n",
              "ApplicantIncome    0.058809  0.051708  ...      -0.009500    -0.004710\n",
              "CoapplicantIncome  0.082912  0.075948  ...       0.010522    -0.059187\n",
              "LoanAmount         0.107930  0.147141  ...      -0.044776    -0.036416\n",
              "Loan_Amount_Term  -0.073567 -0.100863  ...      -0.077620    -0.020974\n",
              "Credit_History     0.009170  0.010938  ...       0.001963     0.540556\n",
              "Property_Area     -0.025752  0.004257  ...       1.000000     0.032112\n",
              "Loan_Status        0.017987  0.091478  ...       0.032112     1.000000\n",
              "\n",
              "[12 rows x 12 columns]"
            ]
          },
          "metadata": {
            "tags": []
          },
          "execution_count": 286
        }
      ]
    },
    {
      "cell_type": "code",
      "metadata": {
        "id": "ny6vkjhROX3Z",
        "colab_type": "code",
        "colab": {
          "base_uri": "https://localhost:8080/",
          "height": 712
        },
        "outputId": "c6d73864-192c-4aef-aec4-2d48959df730"
      },
      "source": [
        "#Now let's draw a heatmap to visualise the correlation\n",
        "import seaborn as sns\n",
        "plt.figure(figsize=(13,10))\n",
        "plt.title(\"Data Correlation\")\n",
        "sns.heatmap(Train_set.corr())"
      ],
      "execution_count": 287,
      "outputs": [
        {
          "output_type": "execute_result",
          "data": {
            "text/plain": [
              "<matplotlib.axes._subplots.AxesSubplot at 0x7ffb359d80f0>"
            ]
          },
          "metadata": {
            "tags": []
          },
          "execution_count": 287
        },
        {
          "output_type": "display_data",
          "data": {
            "image/png": "[encoded data removed]",
            "text/plain": [
              "<Figure size 936x720 with 2 Axes>"
            ]
          },
          "metadata": {
            "tags": [],
            "needs_background": "light"
          }
        }
      ]
    },
    {
      "cell_type": "markdown",
      "metadata": {
        "id": "FGKc9A5aZ7DM",
        "colab_type": "text"
      },
      "source": [
        "We came to know that **LoanAmount - ApplicantIncome** and **Credit_History - Loan_Status** are related."
      ]
    },
    {
      "cell_type": "markdown",
      "metadata": {
        "id": "Xty7zao1fftQ",
        "colab_type": "text"
      },
      "source": [
        "**Married-Gender** and **Married-Dependents** are also related to an extent."
      ]
    },
    {
      "cell_type": "markdown",
      "metadata": {
        "id": "KdtBTzmnw8LP",
        "colab_type": "text"
      },
      "source": [
        "#Features(X) and Label(Y)"
      ]
    },
    {
      "cell_type": "code",
      "metadata": {
        "id": "B5R9H2MFxDDU",
        "colab_type": "code",
        "colab": {
          "base_uri": "https://localhost:8080/",
          "height": 118
        },
        "outputId": "55f1decb-1ff1-4522-f754-fcb4a2112a10"
      },
      "source": [
        "#Let's assign Loan_Status to Y\n",
        "\n",
        "Y = Train_set['Loan_Status']\n",
        "Y.head(5)"
      ],
      "execution_count": 292,
      "outputs": [
        {
          "output_type": "execute_result",
          "data": {
            "text/plain": [
              "0    1\n",
              "1    0\n",
              "2    1\n",
              "3    1\n",
              "4    1\n",
              "Name: Loan_Status, dtype: uint8"
            ]
          },
          "metadata": {
            "tags": []
          },
          "execution_count": 292
        }
      ]
    },
    {
      "cell_type": "code",
      "metadata": {
        "id": "AmKWS80wxLWn",
        "colab_type": "code",
        "colab": {
          "base_uri": "https://localhost:8080/",
          "height": 195
        },
        "outputId": "b7b80032-6983-4a03-e8eb-96c3bd5432da"
      },
      "source": [
        "#Let's assign the columns other than Loan_Status and Loan_ID to Features\n",
        "\n",
        "Features=Train_set.drop(['Loan_Status','Loan_ID'],axis=1)\n",
        "Features.head(5)"
      ],
      "execution_count": 293,
      "outputs": [
        {
          "output_type": "execute_result",
          "data": {
            "text/html": [
              "<div>\n",
              "<style scoped>\n",
              "    .dataframe tbody tr th:only-of-type {\n",
              "        vertical-align: middle;\n",
              "    }\n",
              "\n",
              "    .dataframe tbody tr th {\n",
              "        vertical-align: top;\n",
              "    }\n",
              "\n",
              "    .dataframe thead th {\n",
              "        text-align: right;\n",
              "    }\n",
              "</style>\n",
              "<table border=\"1\" class=\"dataframe\">\n",
              "  <thead>\n",
              "    <tr style=\"text-align: right;\">\n",
              "      <th></th>\n",
              "      <th>Gender</th>\n",
              "      <th>Married</th>\n",
              "      <th>Dependents</th>\n",
              "      <th>Education</th>\n",
              "      <th>Self_Employed</th>\n",
              "      <th>ApplicantIncome</th>\n",
              "      <th>CoapplicantIncome</th>\n",
              "      <th>LoanAmount</th>\n",
              "      <th>Loan_Amount_Term</th>\n",
              "      <th>Credit_History</th>\n",
              "      <th>Property_Area</th>\n",
              "    </tr>\n",
              "  </thead>\n",
              "  <tbody>\n",
              "    <tr>\n",
              "      <th>0</th>\n",
              "      <td>1</td>\n",
              "      <td>0</td>\n",
              "      <td>0</td>\n",
              "      <td>1</td>\n",
              "      <td>0</td>\n",
              "      <td>5849</td>\n",
              "      <td>0.0</td>\n",
              "      <td>146.412162</td>\n",
              "      <td>360.0</td>\n",
              "      <td>1.0</td>\n",
              "      <td>2</td>\n",
              "    </tr>\n",
              "    <tr>\n",
              "      <th>1</th>\n",
              "      <td>1</td>\n",
              "      <td>1</td>\n",
              "      <td>1</td>\n",
              "      <td>1</td>\n",
              "      <td>0</td>\n",
              "      <td>4583</td>\n",
              "      <td>1508.0</td>\n",
              "      <td>128.000000</td>\n",
              "      <td>360.0</td>\n",
              "      <td>1.0</td>\n",
              "      <td>0</td>\n",
              "    </tr>\n",
              "    <tr>\n",
              "      <th>2</th>\n",
              "      <td>1</td>\n",
              "      <td>1</td>\n",
              "      <td>0</td>\n",
              "      <td>1</td>\n",
              "      <td>1</td>\n",
              "      <td>3000</td>\n",
              "      <td>0.0</td>\n",
              "      <td>66.000000</td>\n",
              "      <td>360.0</td>\n",
              "      <td>1.0</td>\n",
              "      <td>2</td>\n",
              "    </tr>\n",
              "    <tr>\n",
              "      <th>3</th>\n",
              "      <td>1</td>\n",
              "      <td>1</td>\n",
              "      <td>0</td>\n",
              "      <td>0</td>\n",
              "      <td>0</td>\n",
              "      <td>2583</td>\n",
              "      <td>2358.0</td>\n",
              "      <td>120.000000</td>\n",
              "      <td>360.0</td>\n",
              "      <td>1.0</td>\n",
              "      <td>2</td>\n",
              "    </tr>\n",
              "    <tr>\n",
              "      <th>4</th>\n",
              "      <td>1</td>\n",
              "      <td>0</td>\n",
              "      <td>0</td>\n",
              "      <td>1</td>\n",
              "      <td>0</td>\n",
              "      <td>6000</td>\n",
              "      <td>0.0</td>\n",
              "      <td>141.000000</td>\n",
              "      <td>360.0</td>\n",
              "      <td>1.0</td>\n",
              "      <td>2</td>\n",
              "    </tr>\n",
              "  </tbody>\n",
              "</table>\n",
              "</div>"
            ],
            "text/plain": [
              "   Gender  Married  Dependents  ...  Loan_Amount_Term  Credit_History  Property_Area\n",
              "0       1        0           0  ...             360.0             1.0              2\n",
              "1       1        1           1  ...             360.0             1.0              0\n",
              "2       1        1           0  ...             360.0             1.0              2\n",
              "3       1        1           0  ...             360.0             1.0              2\n",
              "4       1        0           0  ...             360.0             1.0              2\n",
              "\n",
              "[5 rows x 11 columns]"
            ]
          },
          "metadata": {
            "tags": []
          },
          "execution_count": 293
        }
      ]
    },
    {
      "cell_type": "markdown",
      "metadata": {
        "id": "rl-V5CbN7DxI",
        "colab_type": "text"
      },
      "source": [
        "**For Test_set:**"
      ]
    },
    {
      "cell_type": "code",
      "metadata": {
        "id": "H3oRIsb46_9-",
        "colab_type": "code",
        "colab": {
          "base_uri": "https://localhost:8080/",
          "height": 195
        },
        "outputId": "8e3a4667-7877-4a80-92b8-5b517f79da3b"
      },
      "source": [
        "Test_Features = Test_set.drop(['Loan_ID'],axis=1)\n",
        "Test_Features.head(5)"
      ],
      "execution_count": 373,
      "outputs": [
        {
          "output_type": "execute_result",
          "data": {
            "text/html": [
              "<div>\n",
              "<style scoped>\n",
              "    .dataframe tbody tr th:only-of-type {\n",
              "        vertical-align: middle;\n",
              "    }\n",
              "\n",
              "    .dataframe tbody tr th {\n",
              "        vertical-align: top;\n",
              "    }\n",
              "\n",
              "    .dataframe thead th {\n",
              "        text-align: right;\n",
              "    }\n",
              "</style>\n",
              "<table border=\"1\" class=\"dataframe\">\n",
              "  <thead>\n",
              "    <tr style=\"text-align: right;\">\n",
              "      <th></th>\n",
              "      <th>Gender</th>\n",
              "      <th>Married</th>\n",
              "      <th>Dependents</th>\n",
              "      <th>Education</th>\n",
              "      <th>Self_Employed</th>\n",
              "      <th>ApplicantIncome</th>\n",
              "      <th>CoapplicantIncome</th>\n",
              "      <th>LoanAmount</th>\n",
              "      <th>Loan_Amount_Term</th>\n",
              "      <th>Credit_History</th>\n",
              "      <th>Property_Area</th>\n",
              "    </tr>\n",
              "  </thead>\n",
              "  <tbody>\n",
              "    <tr>\n",
              "      <th>0</th>\n",
              "      <td>1</td>\n",
              "      <td>1</td>\n",
              "      <td>0</td>\n",
              "      <td>1</td>\n",
              "      <td>0</td>\n",
              "      <td>5720</td>\n",
              "      <td>0</td>\n",
              "      <td>110.0</td>\n",
              "      <td>360.0</td>\n",
              "      <td>1.0</td>\n",
              "      <td>2</td>\n",
              "    </tr>\n",
              "    <tr>\n",
              "      <th>1</th>\n",
              "      <td>1</td>\n",
              "      <td>1</td>\n",
              "      <td>1</td>\n",
              "      <td>1</td>\n",
              "      <td>0</td>\n",
              "      <td>3076</td>\n",
              "      <td>1500</td>\n",
              "      <td>126.0</td>\n",
              "      <td>360.0</td>\n",
              "      <td>1.0</td>\n",
              "      <td>2</td>\n",
              "    </tr>\n",
              "    <tr>\n",
              "      <th>2</th>\n",
              "      <td>1</td>\n",
              "      <td>1</td>\n",
              "      <td>2</td>\n",
              "      <td>1</td>\n",
              "      <td>0</td>\n",
              "      <td>5000</td>\n",
              "      <td>1800</td>\n",
              "      <td>208.0</td>\n",
              "      <td>360.0</td>\n",
              "      <td>1.0</td>\n",
              "      <td>2</td>\n",
              "    </tr>\n",
              "    <tr>\n",
              "      <th>3</th>\n",
              "      <td>1</td>\n",
              "      <td>1</td>\n",
              "      <td>2</td>\n",
              "      <td>1</td>\n",
              "      <td>0</td>\n",
              "      <td>2340</td>\n",
              "      <td>2546</td>\n",
              "      <td>100.0</td>\n",
              "      <td>360.0</td>\n",
              "      <td>1.0</td>\n",
              "      <td>2</td>\n",
              "    </tr>\n",
              "    <tr>\n",
              "      <th>4</th>\n",
              "      <td>1</td>\n",
              "      <td>0</td>\n",
              "      <td>0</td>\n",
              "      <td>0</td>\n",
              "      <td>0</td>\n",
              "      <td>3276</td>\n",
              "      <td>0</td>\n",
              "      <td>78.0</td>\n",
              "      <td>360.0</td>\n",
              "      <td>1.0</td>\n",
              "      <td>2</td>\n",
              "    </tr>\n",
              "  </tbody>\n",
              "</table>\n",
              "</div>"
            ],
            "text/plain": [
              "   Gender  Married  Dependents  ...  Loan_Amount_Term  Credit_History  Property_Area\n",
              "0       1        1           0  ...             360.0             1.0              2\n",
              "1       1        1           1  ...             360.0             1.0              2\n",
              "2       1        1           2  ...             360.0             1.0              2\n",
              "3       1        1           2  ...             360.0             1.0              2\n",
              "4       1        0           0  ...             360.0             1.0              2\n",
              "\n",
              "[5 rows x 11 columns]"
            ]
          },
          "metadata": {
            "tags": []
          },
          "execution_count": 373
        }
      ]
    },
    {
      "cell_type": "markdown",
      "metadata": {
        "id": "ue_-BfCJJ54B",
        "colab_type": "text"
      },
      "source": [
        "#Normalisation"
      ]
    },
    {
      "cell_type": "markdown",
      "metadata": {
        "id": "AkdqPrelhm8p",
        "colab_type": "text"
      },
      "source": [
        "Let's use StandardScaler technique to normalise the columns"
      ]
    },
    {
      "cell_type": "code",
      "metadata": {
        "id": "EK7z9wMoKgfW",
        "colab_type": "code",
        "colab": {}
      },
      "source": [
        "from sklearn.preprocessing import StandardScaler\n",
        "SSC = StandardScaler()\n"
      ],
      "execution_count": 294,
      "outputs": []
    },
    {
      "cell_type": "code",
      "metadata": {
        "id": "mcfPHstHe_ER",
        "colab_type": "code",
        "colab": {
          "base_uri": "https://localhost:8080/",
          "height": 235
        },
        "outputId": "25db6f86-966b-4732-eee0-607b715b3f6b"
      },
      "source": [
        "# Let's Normalise all the Features\n",
        "\n",
        "Norm_Features = SSC.fit_transform(Features)\n",
        "print(Norm_Features)"
      ],
      "execution_count": 295,
      "outputs": [
        {
          "output_type": "stream",
          "text": [
            "[[ 0.47234264 -1.37208932 -0.73780632 ...  0.27985054  0.41173269\n",
            "   1.22329839]\n",
            " [ 0.47234264  0.72881553  0.25346957 ...  0.27985054  0.41173269\n",
            "  -1.31851281]\n",
            " [ 0.47234264  0.72881553 -0.73780632 ...  0.27985054  0.41173269\n",
            "   1.22329839]\n",
            " ...\n",
            " [ 0.47234264  0.72881553  0.25346957 ...  0.27985054  0.41173269\n",
            "   1.22329839]\n",
            " [ 0.47234264  0.72881553  1.24474546 ...  0.27985054  0.41173269\n",
            "   1.22329839]\n",
            " [-2.11710719 -1.37208932 -0.73780632 ...  0.27985054 -2.42876026\n",
            "  -0.04760721]]\n"
          ],
          "name": "stdout"
        }
      ]
    },
    {
      "cell_type": "markdown",
      "metadata": {
        "id": "gu7zCFDR7ZD9",
        "colab_type": "text"
      },
      "source": [
        "**Normalising Test_set for later use:**"
      ]
    },
    {
      "cell_type": "code",
      "metadata": {
        "id": "kwVTd2sF7evY",
        "colab_type": "code",
        "colab": {
          "base_uri": "https://localhost:8080/",
          "height": 235
        },
        "outputId": "e9e2d2e8-2b0d-4c53-81ca-d16ef8d701d5"
      },
      "source": [
        "Norm_Test_Features = SSC.fit_transform(Test_Features)\n",
        "print(Norm_Test_Features)"
      ],
      "execution_count": 374,
      "outputs": [
        {
          "output_type": "stream",
          "text": [
            "[[ 0.48547939  0.75835829 -0.75822199 ...  0.27060267  0.4376739\n",
            "   1.11876379]\n",
            " [ 0.48547939  0.75835829  0.18187082 ...  0.27060267  0.4376739\n",
            "   1.11876379]\n",
            " [ 0.48547939  0.75835829  1.12196363 ...  0.27060267  0.4376739\n",
            "   1.11876379]\n",
            " ...\n",
            " [ 0.48547939 -1.31863792 -0.75822199 ...  0.27060267  0.4376739\n",
            "  -0.09598861]\n",
            " [ 0.48547939  0.75835829 -0.75822199 ...  0.27060267  0.4376739\n",
            "  -1.31074101]\n",
            " [ 0.48547939 -1.31863792 -0.75822199 ... -2.51869962  0.4376739\n",
            "  -1.31074101]]\n"
          ],
          "name": "stdout"
        }
      ]
    },
    {
      "cell_type": "markdown",
      "metadata": {
        "id": "hHhAlIM24MG2",
        "colab_type": "text"
      },
      "source": [
        "#Dimensionality Reduction (PCA)"
      ]
    },
    {
      "cell_type": "markdown",
      "metadata": {
        "id": "4bQLL3JZh_yo",
        "colab_type": "text"
      },
      "source": [
        "Let's use PCA(Dimensionality Reduction technique) to reduce the number of columns."
      ]
    },
    {
      "cell_type": "code",
      "metadata": {
        "id": "31NIiyCY4Pcg",
        "colab_type": "code",
        "colab": {
          "base_uri": "https://localhost:8080/",
          "height": 134
        },
        "outputId": "47952c5f-fa48-43ea-d194-6be01ce4884b"
      },
      "source": [
        "from sklearn.decomposition import PCA\n",
        "\n",
        "pca = PCA(n_components = 5)\n",
        "PCA_Norm_Features = pca.fit_transform(Norm_Features)\n",
        "print(PCA_Norm_Features)"
      ],
      "execution_count": 296,
      "outputs": [
        {
          "output_type": "stream",
          "text": [
            "[[-0.80842324  0.8863469   0.6291253   0.73171185 -0.57978147]\n",
            " [ 0.3802899  -0.42248453  0.19481058 -1.32819859 -0.57825402]\n",
            " [-0.176742   -0.06299642 -0.11423706  1.02063982 -1.05963624]\n",
            " ...\n",
            " [ 1.29577265  0.35234765  0.66068698  0.528945   -0.74527264]\n",
            " [ 1.22450861 -0.25549684  0.41748424  0.64001214 -0.95529859]\n",
            " [-1.36857559  2.12474885 -1.95352821  0.95188464  1.9211883 ]]\n"
          ],
          "name": "stdout"
        }
      ]
    },
    {
      "cell_type": "markdown",
      "metadata": {
        "id": "IF7DwME17p-O",
        "colab_type": "text"
      },
      "source": [
        "**Dimensionality Reduction fot Test_set for later use:**"
      ]
    },
    {
      "cell_type": "code",
      "metadata": {
        "id": "qqCPehMV7pPw",
        "colab_type": "code",
        "colab": {
          "base_uri": "https://localhost:8080/",
          "height": 134
        },
        "outputId": "8107d643-cb37-4d50-c333-7d3ec905d4e1"
      },
      "source": [
        "PCA_Norm_Test_Features = pca.fit_transform(Norm_Test_Features)\n",
        "print(PCA_Norm_Test_Features)"
      ],
      "execution_count": 375,
      "outputs": [
        {
          "output_type": "stream",
          "text": [
            "[[ 0.08643878  0.09750331 -0.97356433  0.3222127  -0.67814356]\n",
            " [ 0.35928728 -0.42261795 -0.59137314  0.06510722 -0.93145567]\n",
            " [ 1.65126525 -0.24782851 -0.62933547 -0.38653174 -0.88174924]\n",
            " ...\n",
            " [-0.91488792  0.90251326  0.33241823  0.17224878 -0.33644919]\n",
            " [ 0.43606464  0.30590782  1.16030468  0.18450062  0.08302176]\n",
            " [-0.29768511  1.48208893  0.89968659  3.51268427  0.72516895]]\n"
          ],
          "name": "stdout"
        }
      ]
    },
    {
      "cell_type": "markdown",
      "metadata": {
        "id": "kHEP0LrrwJ07",
        "colab_type": "text"
      },
      "source": [
        "#Train_Test_Split"
      ]
    },
    {
      "cell_type": "code",
      "metadata": {
        "id": "UcZWbISfwI7F",
        "colab_type": "code",
        "colab": {}
      },
      "source": [
        "from sklearn.model_selection import train_test_split"
      ],
      "execution_count": 297,
      "outputs": []
    },
    {
      "cell_type": "code",
      "metadata": {
        "id": "1Q8uE31dwjjK",
        "colab_type": "code",
        "colab": {}
      },
      "source": [
        "#Let's assign that PCA_Norm_Features to X so that we could use this X to train our model\n",
        "\n",
        "X = PCA_Norm_Features"
      ],
      "execution_count": 298,
      "outputs": []
    },
    {
      "cell_type": "code",
      "metadata": {
        "id": "hUHwn6aVkEnu",
        "colab_type": "code",
        "colab": {}
      },
      "source": [
        "#We have two different datasets for train(Train_set) and test(Train_set) data from the source\n",
        "#But to measure the training accuracy and test accuracy while training the model, we split the given Train_set\n",
        "\n",
        "X_train , X_test , y_train , y_test = train_test_split( X , Y , test_size=0.33)"
      ],
      "execution_count": 304,
      "outputs": []
    },
    {
      "cell_type": "markdown",
      "metadata": {
        "id": "dSVm05molP6a",
        "colab_type": "text"
      },
      "source": [
        "#KNN"
      ]
    },
    {
      "cell_type": "code",
      "metadata": {
        "id": "QnylegcD0UH8",
        "colab_type": "code",
        "colab": {}
      },
      "source": [
        "#import KNN\n",
        "\n",
        "from sklearn.neighbors import KNeighborsClassifier"
      ],
      "execution_count": 305,
      "outputs": []
    },
    {
      "cell_type": "code",
      "metadata": {
        "id": "k4Wee5fmlXgW",
        "colab_type": "code",
        "colab": {
          "base_uri": "https://localhost:8080/",
          "height": 296
        },
        "outputId": "dcd16762-ffc2-4ac6-bd58-15a0d6ebccef"
      },
      "source": [
        "#Now let's plot a graph of Training and test accuracies varying the number of neighbours\n",
        "\n",
        "Train_Accuracy = []\n",
        "Test_Accuracy = []\n",
        "for i in range(2,15):\n",
        "  KNN = KNeighborsClassifier(n_neighbors = i)\n",
        "  KNN.fit(X_train, y_train)\n",
        "\n",
        "  Train_Acc = KNN.score(X_train, y_train)\n",
        "  Test_Acc = KNN.score(X_test, y_test)\n",
        "\n",
        "  Train_Accuracy.append(Train_Acc)\n",
        "  Test_Accuracy.append(Test_Acc)\n",
        "\n",
        "plt.plot(np.arange(2,15) , Train_Accuracy , label= 'Train_Acc')\n",
        "plt.plot(np.arange(2,15) , Test_Accuracy , label = 'Test_Acc')\n",
        "plt.xlabel('Number of neighbours')\n",
        "plt.ylabel('Accuracy')\n",
        "plt.legend()"
      ],
      "execution_count": 357,
      "outputs": [
        {
          "output_type": "execute_result",
          "data": {
            "text/plain": [
              "<matplotlib.legend.Legend at 0x7ffb351ddac8>"
            ]
          },
          "metadata": {
            "tags": []
          },
          "execution_count": 357
        },
        {
          "output_type": "display_data",
          "data": {
            "image/png": "[encoded data removed]",
            "text/plain": [
              "<Figure size 432x288 with 1 Axes>"
            ]
          },
          "metadata": {
            "tags": [],
            "needs_background": "light"
          }
        }
      ]
    },
    {
      "cell_type": "code",
      "metadata": {
        "id": "mOzBe5TcyQ9V",
        "colab_type": "code",
        "colab": {
          "base_uri": "https://localhost:8080/",
          "height": 50
        },
        "outputId": "d32b9aaf-1c52-461b-e7a5-8334c7114fa8"
      },
      "source": [
        "# From the above graph we came to know that the best train and test accuracies are at n=7\n",
        "KNN = KNeighborsClassifier(n_neighbors=7)\n",
        "\n",
        "# fit the model\n",
        "KNN.fit(X_train, y_train)\n",
        "\n",
        "# Calculate and print the scores\n",
        "print(\"Training Accuracy:\", KNN.score(X_train, y_train))\n",
        "print(\"Test Accuracy:\", KNN.score(X_test, y_test))"
      ],
      "execution_count": 358,
      "outputs": [
        {
          "output_type": "stream",
          "text": [
            "Training Accuracy: 0.8223844282238443\n",
            "Test Accuracy: 0.8177339901477833\n"
          ],
          "name": "stdout"
        }
      ]
    },
    {
      "cell_type": "markdown",
      "metadata": {
        "id": "t8wskt4_odiH",
        "colab_type": "text"
      },
      "source": [
        "So using KNN, we got accuracies as Training Accuracy: 0.8223, Test Accuracy: 0.8177 \n"
      ]
    },
    {
      "cell_type": "markdown",
      "metadata": {
        "id": "eCMOot-Ipnbp",
        "colab_type": "text"
      },
      "source": [
        "**Note:** We may not get this same all the times when we execute this because it depends on the splitting of data. Every time when we split the data, the results may differ."
      ]
    },
    {
      "cell_type": "code",
      "metadata": {
        "id": "7yvWpB2Q1OFo",
        "colab_type": "code",
        "colab": {
          "base_uri": "https://localhost:8080/",
          "height": 34
        },
        "outputId": "1999157a-88a7-4b1b-f7a6-54d12a088a32"
      },
      "source": [
        "#Let's store the accuracies in some variables\n",
        "\n",
        "knn_tr_acc=KNN.score(X_train,y_train)\n",
        "knn_te_acc=KNN.score(X_test,y_test)\n",
        "print(knn_tr_acc,knn_te_acc)"
      ],
      "execution_count": 359,
      "outputs": [
        {
          "output_type": "stream",
          "text": [
            "0.8223844282238443 0.8177339901477833\n"
          ],
          "name": "stdout"
        }
      ]
    },
    {
      "cell_type": "markdown",
      "metadata": {
        "id": "G4OOcpH76OeQ",
        "colab_type": "text"
      },
      "source": [
        "After trying different test cases, I got the best outcome from KNN at random_state=21 and n=3 : **Training Accuracy: 0.8394 , Test Accuracy: 0.8275**"
      ]
    },
    {
      "cell_type": "markdown",
      "metadata": {
        "id": "DDZv699l29vO",
        "colab_type": "text"
      },
      "source": [
        "#Logistic Regression"
      ]
    },
    {
      "cell_type": "code",
      "metadata": {
        "id": "d5a4YrJC3Cia",
        "colab_type": "code",
        "colab": {}
      },
      "source": [
        "#import Logistic regression \n",
        "\n",
        "from sklearn.linear_model import LogisticRegression\n",
        "LRmodel = LogisticRegression()"
      ],
      "execution_count": 315,
      "outputs": []
    },
    {
      "cell_type": "code",
      "metadata": {
        "id": "FibITULU1S55",
        "colab_type": "code",
        "colab": {
          "base_uri": "https://localhost:8080/",
          "height": 50
        },
        "outputId": "7f177e09-387c-40bd-9406-0d5dbcedbb21"
      },
      "source": [
        "# fit the model\n",
        "LRmodel.fit(X_train, y_train)\n",
        "\n",
        "# Calculate and print the scores\n",
        "print(\"Training Accuracy:\",LRmodel.score(X_train, y_train))\n",
        "print(\"Testing Accuracy:\",LRmodel.score(X_test, y_test))"
      ],
      "execution_count": 346,
      "outputs": [
        {
          "output_type": "stream",
          "text": [
            "Training Accuracy: 0.8102189781021898\n",
            "Testing Accuracy: 0.8029556650246306\n"
          ],
          "name": "stdout"
        }
      ]
    },
    {
      "cell_type": "markdown",
      "metadata": {
        "id": "MJB8OL9ErjLx",
        "colab_type": "text"
      },
      "source": [
        "From Logistic Regression we got Training Acc: 0.8102, Testing Acc: 0.8029"
      ]
    },
    {
      "cell_type": "markdown",
      "metadata": {
        "id": "yDEKlo-Frarm",
        "colab_type": "text"
      },
      "source": [
        "**Note**: We may not get this same all the times when we execute this because it depends on the splitting of data. Every time when we split the data, the results may differ."
      ]
    },
    {
      "cell_type": "code",
      "metadata": {
        "id": "mSH9cjuOxP_D",
        "colab_type": "code",
        "colab": {
          "base_uri": "https://localhost:8080/",
          "height": 34
        },
        "outputId": "d7093890-a634-4a8c-d9bc-e74d31e19393"
      },
      "source": [
        "#Let's store the accuracies in some variables\n",
        "\n",
        "lr_tr_acc=LRmodel.score(X_train,y_train)\n",
        "lr_te_acc=LRmodel.score(X_test,y_test)\n",
        "print(lr_tr_acc,lr_te_acc)"
      ],
      "execution_count": 349,
      "outputs": [
        {
          "output_type": "stream",
          "text": [
            "0.8102189781021898 0.8029556650246306\n"
          ],
          "name": "stdout"
        }
      ]
    },
    {
      "cell_type": "markdown",
      "metadata": {
        "id": "5ydkT9BdLxrc",
        "colab_type": "text"
      },
      "source": [
        "#SVM"
      ]
    },
    {
      "cell_type": "code",
      "metadata": {
        "id": "GceLo5xKLz4p",
        "colab_type": "code",
        "colab": {}
      },
      "source": [
        "#import SVC\n",
        "\n",
        "from sklearn.svm import SVC\n",
        "\n",
        "SVM = SVC()"
      ],
      "execution_count": 319,
      "outputs": []
    },
    {
      "cell_type": "code",
      "metadata": {
        "id": "G-T5fE3mC0IE",
        "colab_type": "code",
        "colab": {
          "base_uri": "https://localhost:8080/",
          "height": 50
        },
        "outputId": "a1aee2a8-2ea1-4780-c8af-431db685d4bf"
      },
      "source": [
        "# fit the model\n",
        "SVM.fit(X_train , y_train)\n",
        "\n",
        "# Calculate and print the scores\n",
        "print(\"Training Accuracy:\",SVM.score(X_train , y_train))\n",
        "print(\"Testing Accuracy:\",SVM.score(X_test , y_test))\n"
      ],
      "execution_count": 348,
      "outputs": [
        {
          "output_type": "stream",
          "text": [
            "Training Accuracy: 0.8223844282238443\n",
            "Testing Accuracy: 0.8029556650246306\n"
          ],
          "name": "stdout"
        }
      ]
    },
    {
      "cell_type": "markdown",
      "metadata": {
        "id": "NLhuF20asRgG",
        "colab_type": "text"
      },
      "source": [
        "From SVC, we got Training acc: 0.8223, Testing acc: 0.8029"
      ]
    },
    {
      "cell_type": "markdown",
      "metadata": {
        "id": "KG7xW8IGscvO",
        "colab_type": "text"
      },
      "source": [
        "**Note**: We may not get this same all the times when we execute this because it depends on the splitting of data. Every time when we split the data, the results may differ."
      ]
    },
    {
      "cell_type": "code",
      "metadata": {
        "id": "ZZwlx01QxmXl",
        "colab_type": "code",
        "colab": {
          "base_uri": "https://localhost:8080/",
          "height": 34
        },
        "outputId": "f01d9f87-3c36-4b96-bdd8-fd266b596458"
      },
      "source": [
        "#Let's store the accuracies in some variables\n",
        "\n",
        "svm_tr_acc=SVM.score(X_train,y_train)\n",
        "svm_te_acc=SVM.score(X_test,y_test)\n",
        "print(svm_tr_acc,svm_te_acc)"
      ],
      "execution_count": 350,
      "outputs": [
        {
          "output_type": "stream",
          "text": [
            "0.8223844282238443 0.8029556650246306\n"
          ],
          "name": "stdout"
        }
      ]
    },
    {
      "cell_type": "markdown",
      "metadata": {
        "id": "5wyQJSR95CRl",
        "colab_type": "text"
      },
      "source": [
        "#RandomForestClassifier"
      ]
    },
    {
      "cell_type": "code",
      "metadata": {
        "id": "ThvbFusJ5Fme",
        "colab_type": "code",
        "colab": {}
      },
      "source": [
        "#import RandomForestClassifier\n",
        "\n",
        "from sklearn.ensemble import RandomForestClassifier"
      ],
      "execution_count": 324,
      "outputs": []
    },
    {
      "cell_type": "code",
      "metadata": {
        "id": "wC92Dipc5Yxs",
        "colab_type": "code",
        "colab": {}
      },
      "source": [
        "RFC = RandomForestClassifier(max_depth=2, n_estimators=10, random_state=0)"
      ],
      "execution_count": 325,
      "outputs": []
    },
    {
      "cell_type": "code",
      "metadata": {
        "id": "T52sBMkk5tjZ",
        "colab_type": "code",
        "colab": {
          "base_uri": "https://localhost:8080/",
          "height": 50
        },
        "outputId": "8e3e7338-fbf2-445a-8728-a887042214b8"
      },
      "source": [
        "# fit the model\n",
        "RFC.fit(X_train, y_train)\n",
        "\n",
        "# Calculate and print the scores\n",
        "print('Training Accuracy:',RFC.score(X_train, y_train))\n",
        "print('Test Accuracy:',RFC.score(X_test, y_test))"
      ],
      "execution_count": 351,
      "outputs": [
        {
          "output_type": "stream",
          "text": [
            "Training Accuracy: 0.8150851581508516\n",
            "Test Accuracy: 0.8029556650246306\n"
          ],
          "name": "stdout"
        }
      ]
    },
    {
      "cell_type": "markdown",
      "metadata": {
        "id": "f7bHWMT7tTx-",
        "colab_type": "text"
      },
      "source": [
        "From RandomForestClassifier, we got Training Accuracy: 0.8150, Test Accuracy: 0.8029"
      ]
    },
    {
      "cell_type": "markdown",
      "metadata": {
        "id": "MmDdruq8t8lz",
        "colab_type": "text"
      },
      "source": [
        "**Note:** We may not get this same all the times when we execute this because it depends on the splitting of data. Every time when we split the data, the results may differ."
      ]
    },
    {
      "cell_type": "code",
      "metadata": {
        "id": "Rt4DScGMx6c8",
        "colab_type": "code",
        "colab": {
          "base_uri": "https://localhost:8080/",
          "height": 34
        },
        "outputId": "a734571c-63a7-48d2-faff-aa68887618d4"
      },
      "source": [
        "#Let's store the accuracies in some variables\n",
        "\n",
        "rfc_tr_acc=RFC.score(X_train,y_train)\n",
        "rfc_te_acc=RFC.score(X_test,y_test)\n",
        "print(rfc_tr_acc,rfc_te_acc)"
      ],
      "execution_count": 352,
      "outputs": [
        {
          "output_type": "stream",
          "text": [
            "0.8150851581508516 0.8029556650246306\n"
          ],
          "name": "stdout"
        }
      ]
    },
    {
      "cell_type": "markdown",
      "metadata": {
        "id": "kkIkC6LqhhJE",
        "colab_type": "text"
      },
      "source": [
        "#Gaussian Naive Baye's"
      ]
    },
    {
      "cell_type": "code",
      "metadata": {
        "id": "3g0sPHWihkC9",
        "colab_type": "code",
        "colab": {}
      },
      "source": [
        "#import GaussianNB\n",
        "\n",
        "from sklearn.naive_bayes import GaussianNB\n",
        "\n",
        "GNB = GaussianNB()"
      ],
      "execution_count": 331,
      "outputs": []
    },
    {
      "cell_type": "code",
      "metadata": {
        "id": "ELRGkbUJmegV",
        "colab_type": "code",
        "colab": {
          "base_uri": "https://localhost:8080/",
          "height": 50
        },
        "outputId": "21aa1730-72bb-46cf-a9e1-bcca7a6332b1"
      },
      "source": [
        "# fit the model\n",
        "GNB.fit(X_train, y_train)\n",
        "\n",
        "# Calculate and print the scores\n",
        "print('Training Accuracy:',GNB.score(X_train,y_train))\n",
        "print('Test Accuracy:',GNB.score(X_test,y_test))"
      ],
      "execution_count": 353,
      "outputs": [
        {
          "output_type": "stream",
          "text": [
            "Training Accuracy: 0.7931873479318735\n",
            "Test Accuracy: 0.7881773399014779\n"
          ],
          "name": "stdout"
        }
      ]
    },
    {
      "cell_type": "markdown",
      "metadata": {
        "id": "gVEGAIhGutDJ",
        "colab_type": "text"
      },
      "source": [
        "From Gaussian Naive Bayes, we got Training Accuracy: 0.7931, Test Accuracy: 0.7881"
      ]
    },
    {
      "cell_type": "markdown",
      "metadata": {
        "id": "NSNHfi1suBmg",
        "colab_type": "text"
      },
      "source": [
        "**Note:** We may not get this same all the times when we execute this because it depends on the splitting of data. Every time when we split the data, the results may differ."
      ]
    },
    {
      "cell_type": "code",
      "metadata": {
        "id": "QCkDGeknyHTZ",
        "colab_type": "code",
        "colab": {
          "base_uri": "https://localhost:8080/",
          "height": 34
        },
        "outputId": "89f4f318-78b2-457f-95e5-c818dd850617"
      },
      "source": [
        "#Let's store the accuracies in some variables\n",
        "\n",
        "gnb_tr_acc=GNB.score(X_train,y_train)\n",
        "gnb_te_acc=GNB.score(X_test,y_test)\n",
        "print(gnb_tr_acc,gnb_te_acc)"
      ],
      "execution_count": 354,
      "outputs": [
        {
          "output_type": "stream",
          "text": [
            "0.7931873479318735 0.7881773399014779\n"
          ],
          "name": "stdout"
        }
      ]
    },
    {
      "cell_type": "markdown",
      "metadata": {
        "id": "PraVQcXQyU9l",
        "colab_type": "text"
      },
      "source": [
        "#Comparision of Algorithms"
      ]
    },
    {
      "cell_type": "code",
      "metadata": {
        "id": "g6qHHc_Bya05",
        "colab_type": "code",
        "colab": {}
      },
      "source": [
        "#For comparision of algorithms, let's plot a bar chart\n",
        "\n",
        "#Storing the names of the algorithms\n",
        "Models = ['KNN' , 'LR' , 'SVM' , 'RFC' , 'GNB']\n",
        "\n",
        "#Storing Training Accuracies\n",
        "Final_Tr_Acc = [knn_tr_acc , lr_tr_acc , svm_tr_acc , rfc_tr_acc , gnb_tr_acc]\n",
        "\n",
        "#Storing Test Accuracies\n",
        "Final_Te_Acc = [knn_te_acc , lr_te_acc , svm_te_acc , rfc_te_acc , gnb_te_acc]\n"
      ],
      "execution_count": 360,
      "outputs": []
    },
    {
      "cell_type": "code",
      "metadata": {
        "id": "yV-F6DcUzJ-V",
        "colab_type": "code",
        "colab": {
          "base_uri": "https://localhost:8080/",
          "height": 312
        },
        "outputId": "f5dfa84d-bd2a-4d78-8397-35cdfd764444"
      },
      "source": [
        "n = 5\n",
        "type1 = (knn_tr_acc , lr_tr_acc , svm_tr_acc , rfc_tr_acc , gnb_tr_acc)\n",
        "type2 = (knn_te_acc , lr_te_acc , svm_te_acc , rfc_te_acc , gnb_te_acc)\n",
        "\n",
        "\n",
        "fig, ax = plt.subplots()\n",
        "index = np.arange(n)\n",
        "type1=np.array(Final_Tr_Acc)\n",
        "type2=np.array(Final_Te_Acc)\n",
        "bar_width = 0.35\n",
        "opacity = 0.8\n",
        "\n",
        "rects1 = plt.bar(index, type1, bar_width, alpha=opacity, align='edge', label='Train', color='black')\n",
        "\n",
        "rects2 = plt.bar(index + bar_width , type2, bar_width, alpha=opacity , align='edge', label='Test', color='red')\n",
        "\n",
        "plt.xlabel('Models')\n",
        "plt.ylabel('Accuracy') \n",
        "plt.title('Accuracy of models')\n",
        "plt.xticks(index + bar_width, ('KNN', 'LR', 'SVM', 'RFC' , 'GNB'))\n",
        "plt.legend()\n"
      ],
      "execution_count": 384,
      "outputs": [
        {
          "output_type": "execute_result",
          "data": {
            "text/plain": [
              "<matplotlib.legend.Legend at 0x7ffb34e5a0f0>"
            ]
          },
          "metadata": {
            "tags": []
          },
          "execution_count": 384
        },
        {
          "output_type": "display_data",
          "data": {
            "image/png": "[encoded data removed]",
            "text/plain": [
              "<Figure size 432x288 with 1 Axes>"
            ]
          },
          "metadata": {
            "tags": [],
            "needs_background": "light"
          }
        }
      ]
    },
    {
      "cell_type": "code",
      "metadata": {
        "id": "NN4s2d3H_o1M",
        "colab_type": "code",
        "colab": {
          "base_uri": "https://localhost:8080/",
          "height": 296
        },
        "outputId": "5199bced-5daa-409e-c4c8-282284d6b59b"
      },
      "source": [
        "plt.plot(Models,Final_Tr_Acc,label='Training Accuracy')\n",
        "plt.plot(Models,Final_Te_Acc,label='Test Accuracy')\n",
        "plt.xlabel('Models')\n",
        "plt.ylabel('Accuracy')\n",
        "plt.legend()"
      ],
      "execution_count": 362,
      "outputs": [
        {
          "output_type": "execute_result",
          "data": {
            "text/plain": [
              "<matplotlib.legend.Legend at 0x7ffb350d4208>"
            ]
          },
          "metadata": {
            "tags": []
          },
          "execution_count": 362
        },
        {
          "output_type": "display_data",
          "data": {
            "image/png": "[encoded data removed]",
            "text/plain": [
              "<Figure size 432x288 with 1 Axes>"
            ]
          },
          "metadata": {
            "tags": [],
            "needs_background": "light"
          }
        }
      ]
    },
    {
      "cell_type": "markdown",
      "metadata": {
        "id": "FhUCvwhJ5NE0",
        "colab_type": "text"
      },
      "source": [
        "#Conclusion"
      ]
    },
    {
      "cell_type": "markdown",
      "metadata": {
        "id": "zUx4iaWA5LCf",
        "colab_type": "text"
      },
      "source": [
        "**Final Accuracies:**"
      ]
    },
    {
      "cell_type": "markdown",
      "metadata": {
        "id": "u_67umy35Vjh",
        "colab_type": "text"
      },
      "source": [
        "**KNN:**  Training Accuracy: 0.8223, Test Accuracy: 0.8177"
      ]
    },
    {
      "cell_type": "markdown",
      "metadata": {
        "id": "MkhVHS2W5eZH",
        "colab_type": "text"
      },
      "source": [
        "**Logistic Regression:**  Training Acc: 0.8102, Testing Acc: 0.8029"
      ]
    },
    {
      "cell_type": "markdown",
      "metadata": {
        "id": "veedD3Gt5n5d",
        "colab_type": "text"
      },
      "source": [
        "**SVM:** Training acc: 0.8223, Testing acc: 0.8029"
      ]
    },
    {
      "cell_type": "markdown",
      "metadata": {
        "id": "Oz-oFwVT5xXD",
        "colab_type": "text"
      },
      "source": [
        "**RandomForest Classifier:** Training Accuracy: 0.8150, Test Accuracy: 0.8029"
      ]
    },
    {
      "cell_type": "markdown",
      "metadata": {
        "id": "NkFE1cSa5-E0",
        "colab_type": "text"
      },
      "source": [
        "**Gaussian Naive Bayes:** Training Accuracy: 0.7931, Test Accuracy: 0.7881\n"
      ]
    },
    {
      "cell_type": "markdown",
      "metadata": {
        "id": "nrQTlmSF6O8l",
        "colab_type": "text"
      },
      "source": [
        "So, we conclude that **K-Nearest Neighbours model gives us the best result**. Test Accuracies of LR, SVM and RFC are equal."
      ]
    },
    {
      "cell_type": "markdown",
      "metadata": {
        "id": "JVME-rxv6mDv",
        "colab_type": "text"
      },
      "source": [
        "#Predicting the Test_set"
      ]
    },
    {
      "cell_type": "code",
      "metadata": {
        "id": "V0IUOWHd8ATm",
        "colab_type": "code",
        "colab": {
          "base_uri": "https://localhost:8080/",
          "height": 134
        },
        "outputId": "60e4c51f-47e8-494d-a1dd-cc225b9e3a6f"
      },
      "source": [
        "#Recall the Dimensionality Reduction part \n",
        "#There we normalised the Test_set columns\n",
        "#And we applied PCA on that Norm_Test_Features\n",
        "#So, now assign that 'PCA_Norm_Test_Features' to predict the output of Test_data\n",
        "\n",
        "input = PCA_Norm_Test_Features\n",
        "print(input)"
      ],
      "execution_count": 376,
      "outputs": [
        {
          "output_type": "stream",
          "text": [
            "[[ 0.08643878  0.09750331 -0.97356433  0.3222127  -0.67814356]\n",
            " [ 0.35928728 -0.42261795 -0.59137314  0.06510722 -0.93145567]\n",
            " [ 1.65126525 -0.24782851 -0.62933547 -0.38653174 -0.88174924]\n",
            " ...\n",
            " [-0.91488792  0.90251326  0.33241823  0.17224878 -0.33644919]\n",
            " [ 0.43606464  0.30590782  1.16030468  0.18450062  0.08302176]\n",
            " [-0.29768511  1.48208893  0.89968659  3.51268427  0.72516895]]\n"
          ],
          "name": "stdout"
        }
      ]
    },
    {
      "cell_type": "code",
      "metadata": {
        "id": "mIga9fwM6y_y",
        "colab_type": "code",
        "colab": {
          "base_uri": "https://localhost:8080/",
          "height": 185
        },
        "outputId": "e567a97f-8534-4b86-92c1-689f46fbe06f"
      },
      "source": [
        "Output = KNN.predict(input)\n",
        "print(Output) "
      ],
      "execution_count": 379,
      "outputs": [
        {
          "output_type": "stream",
          "text": [
            "[1 1 1 1 1 0 0 1 1 1 1 1 1 1 1 1 1 1 1 1 1 1 1 0 1 1 1 1 1 1 0 1 1 1 1 1 1\n",
            " 0 0 1 1 1 1 0 1 1 1 1 1 0 1 1 1 1 0 1 0 1 1 1 1 0 0 1 1 1 1 1 1 1 1 1 1 1\n",
            " 1 1 1 0 1 1 1 1 0 1 1 1 1 1 1 1 0 1 1 1 1 0 1 1 1 1 1 0 1 1 1 1 0 1 1 1 0\n",
            " 1 1 1 1 1 0 1 1 1 1 1 1 1 0 1 1 1 1 1 1 1 0 1 1 1 1 1 1 1 1 1 0 1 1 1 1 0\n",
            " 1 1 0 1 1 1 1 0 1 1 0 0 1 1 1 1 1 1 1 1 1 1 1 0 1 1 1 1 1 1 1 1 1 1 1 1 1\n",
            " 0 1 1 0 1 1 1 1 1 1 0 1 1 1 0 0 1 1 1 1 1 1 1 1 1 1 1 0 1 1 1 1 1 1 1 1 0\n",
            " 0 1 0 1 1 1 1 0 1 0 1 1 0 1 0 1 1 1 1 1 1 1 0 1 0 1 0 1 0 1 1 1 1 1 1 1 1\n",
            " 1 1 1 1 1 1 1 0 0 1 1 1 1 1 1 1 1 1 1 1 0 1 1 1 0 1 1 1 1 1 1 1 1 0 1 1 0\n",
            " 1 0 0 1 0 1 0 0 1 0 0 0 1 1 1 1 1 1 1 1 1 1 0 1 0 1 1 0 1 1 1 1 0 1 1 1 1\n",
            " 1 1 1 0 1 1 1 1 0 1 1 1 1 1 1 1 0 1 1 1 1 1 1 1 1 0 1 1 1 0 1 1 1 1]\n"
          ],
          "name": "stdout"
        }
      ]
    },
    {
      "cell_type": "code",
      "metadata": {
        "id": "WIRg6G698pCn",
        "colab_type": "code",
        "colab": {
          "base_uri": "https://localhost:8080/",
          "height": 34
        },
        "outputId": "106c3416-eeb6-471c-a47e-68b90fcf9031"
      },
      "source": [
        "Output.size"
      ],
      "execution_count": 382,
      "outputs": [
        {
          "output_type": "execute_result",
          "data": {
            "text/plain": [
              "367"
            ]
          },
          "metadata": {
            "tags": []
          },
          "execution_count": 382
        }
      ]
    },
    {
      "cell_type": "markdown",
      "metadata": {
        "id": "XliYOuyh9BK4",
        "colab_type": "text"
      },
      "source": [
        "Hence, we can verify that it has predicted all the values and given the required output."
      ]
    }
  ]
}